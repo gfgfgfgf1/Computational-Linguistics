{
 "cells": [
  {
   "cell_type": "code",
   "execution_count": 234,
   "metadata": {},
   "outputs": [],
   "source": [
    "from bs4 import BeautifulSoup\n",
    "from selenium import webdriver\n",
    "import requests\n",
    "import pandas as pd\n",
    "import json"
   ]
  },
  {
   "cell_type": "code",
   "execution_count": null,
   "metadata": {},
   "outputs": [],
   "source": [
    "links_filename = \"links.txt\""
   ]
  },
  {
   "cell_type": "markdown",
   "metadata": {},
   "source": [
    "Только сел сдавать и писать комменты и мне в голову пришла интересная мысля о том, чтобы url также переключался, типо с категории мира на экономику и там по страничкам, но потом я вспомнил, как намучился с driver.Chrome и driver.Firefox, когда пытался на прошлом сайте нажать кнопочку показать еще 12 статей и я понимаю, что эта работа уже идеальна. К слову, когда я пытался это сделать нашел много статей с разной помощью от знатоков, ага, они мне очень помогли, я снес себе firefox и все библиотеки которые связывали юпитер с ним, неплохо провел выходные вообщем."
   ]
  },
  {
   "cell_type": "markdown",
   "metadata": {},
   "source": [
    "Как я понял в ленте есть предел в 7 страниц актуальной информации, их архив я не нашел, может плохо искал, так что скачиваются первые 7 страниц, однако, если номер страци больше чем имеется на сайте, то сайт выводит первую страницу, я не проверял все, так что могут быть повторы."
   ]
  },
  {
   "cell_type": "code",
   "execution_count": 138,
   "metadata": {},
   "outputs": [],
   "source": [
    "for i in range(1, 8):\n",
    "    url = f\"https://lenta.ru/rubrics/world/politic/{i}/\"\n",
    "    page = requests.get(url)\n",
    "    News = []\n",
    "    soup = BeautifulSoup(page.text, \"html.parser\")\n",
    "    for links in soup.findAll(\"a\", class_=\"card-full-news _subrubric\"):\n",
    "        with open(links_filename, \"a\") as file:\n",
    "            file.write('https://lenta.ru' + links.get('href') + '\\n')"
   ]
  },
  {
   "cell_type": "code",
   "execution_count": 144,
   "metadata": {},
   "outputs": [],
   "source": [
    "for i in range(1, 8):\n",
    "    url = f\"https://lenta.ru/rubrics/world/society/{i}/\"\n",
    "    page = requests.get(url)\n",
    "    News = []\n",
    "    soup = BeautifulSoup(page.text, \"html.parser\")\n",
    "    for links in soup.findAll(\"a\", class_=\"card-full-news _subrubric\"):\n",
    "        with open(links_filename, \"a\") as file:\n",
    "            file.write('https://lenta.ru' + links.get('href') + '\\n')"
   ]
  },
  {
   "cell_type": "code",
   "execution_count": 145,
   "metadata": {},
   "outputs": [],
   "source": [
    "for i in range(1, 8):\n",
    "    url = f\"https://lenta.ru/rubrics/world/accident/{i}/\"\n",
    "    page = requests.get(url)\n",
    "    News = []\n",
    "    soup = BeautifulSoup(page.text, \"html.parser\")\n",
    "    for links in soup.findAll(\"a\", class_=\"card-full-news _subrubric\"):\n",
    "        with open(links_filename, \"a\") as file:\n",
    "            file.write('https://lenta.ru' + links.get('href') + '\\n')"
   ]
  },
  {
   "cell_type": "code",
   "execution_count": 146,
   "metadata": {},
   "outputs": [],
   "source": [
    "for i in range(1, 8):\n",
    "    url = f\"https://lenta.ru/rubrics/world/conflict/{i}/\"\n",
    "    page = requests.get(url)\n",
    "    News = []\n",
    "    soup = BeautifulSoup(page.text, \"html.parser\")\n",
    "    for links in soup.findAll(\"a\", class_=\"card-full-news _subrubric\"):\n",
    "        with open(links_filename, \"a\") as file:\n",
    "            file.write('https://lenta.ru' + links.get('href') + '\\n')"
   ]
  },
  {
   "cell_type": "code",
   "execution_count": 147,
   "metadata": {},
   "outputs": [],
   "source": [
    "for i in range(1, 8):\n",
    "    url = f\"https://lenta.ru/rubrics/world/crime/{i}/\"\n",
    "    page = requests.get(url)\n",
    "    News = []\n",
    "    soup = BeautifulSoup(page.text, \"html.parser\")\n",
    "    for links in soup.findAll(\"a\", class_=\"card-full-news _subrubric\"):\n",
    "        with open(links_filename, \"a\") as file:\n",
    "            file.write('https://lenta.ru' + links.get('href') + '\\n')"
   ]
  },
  {
   "cell_type": "code",
   "execution_count": 148,
   "metadata": {},
   "outputs": [],
   "source": [
    "posts = []\n",
    "with open(links_filename) as file:\n",
    "    for line in file:\n",
    "        posts.append(line[:-1])"
   ]
  },
  {
   "cell_type": "code",
   "execution_count": 152,
   "metadata": {},
   "outputs": [
    {
     "data": {
      "text/plain": [
       "'https://lenta.ru/news/2023/01/17/russkiimir/'"
      ]
     },
     "execution_count": 152,
     "metadata": {},
     "output_type": "execute_result"
    }
   ],
   "source": [
    "posts[0]"
   ]
  },
  {
   "cell_type": "code",
   "execution_count": 255,
   "metadata": {},
   "outputs": [
    {
     "data": {
      "text/html": [
       "<div>\n",
       "<style scoped>\n",
       "    .dataframe tbody tr th:only-of-type {\n",
       "        vertical-align: middle;\n",
       "    }\n",
       "\n",
       "    .dataframe tbody tr th {\n",
       "        vertical-align: top;\n",
       "    }\n",
       "\n",
       "    .dataframe thead th {\n",
       "        text-align: right;\n",
       "    }\n",
       "</style>\n",
       "<table border=\"1\" class=\"dataframe\">\n",
       "  <thead>\n",
       "    <tr style=\"text-align: right;\">\n",
       "      <th></th>\n",
       "      <th>link</th>\n",
       "      <th>category</th>\n",
       "      <th>title</th>\n",
       "      <th>text</th>\n",
       "    </tr>\n",
       "  </thead>\n",
       "  <tbody>\n",
       "    <tr>\n",
       "      <th>0</th>\n",
       "      <td>https://lenta.ru/news/2023/01/07/podarok/</td>\n",
       "      <td>World</td>\n",
       "      <td>Президент Польши выразил протест идее русского...</td>\n",
       "      <td>Президент Польши Анджей Дуда выразил протест р...</td>\n",
       "    </tr>\n",
       "    <tr>\n",
       "      <th>1</th>\n",
       "      <td>https://lenta.ru/news/2023/01/07/podarok/</td>\n",
       "      <td>World</td>\n",
       "      <td>Шольц высказался о последствиях энергетическог...</td>\n",
       "      <td>Канцлер Германии Олаф Шольц заявил, что эконом...</td>\n",
       "    </tr>\n",
       "    <tr>\n",
       "      <th>2</th>\n",
       "      <td>https://lenta.ru/news/2023/01/07/podarok/</td>\n",
       "      <td>World</td>\n",
       "      <td>ЕС выделил Украине первый транш помощи</td>\n",
       "      <td>Европейский союз (ЕС) выделил Украине первый т...</td>\n",
       "    </tr>\n",
       "    <tr>\n",
       "      <th>3</th>\n",
       "      <td>https://lenta.ru/news/2023/01/07/podarok/</td>\n",
       "      <td>World</td>\n",
       "      <td>Еще одна страна ЕС рассмотрит вопрос передачи ...</td>\n",
       "      <td>Правительство еще одной страны ЕС — Нидерландо...</td>\n",
       "    </tr>\n",
       "    <tr>\n",
       "      <th>4</th>\n",
       "      <td>https://lenta.ru/news/2023/01/07/podarok/</td>\n",
       "      <td>World</td>\n",
       "      <td>В Германии признали участие в украинском конфл...</td>\n",
       "      <td>Германия участвует в конфликте на Украине непр...</td>\n",
       "    </tr>\n",
       "  </tbody>\n",
       "</table>\n",
       "</div>"
      ],
      "text/plain": [
       "                                        link category  \\\n",
       "0  https://lenta.ru/news/2023/01/07/podarok/    World   \n",
       "1  https://lenta.ru/news/2023/01/07/podarok/    World   \n",
       "2  https://lenta.ru/news/2023/01/07/podarok/    World   \n",
       "3  https://lenta.ru/news/2023/01/07/podarok/    World   \n",
       "4  https://lenta.ru/news/2023/01/07/podarok/    World   \n",
       "\n",
       "                                               title  \\\n",
       "0  Президент Польши выразил протест идее русского...   \n",
       "1  Шольц высказался о последствиях энергетическог...   \n",
       "2             ЕС выделил Украине первый транш помощи   \n",
       "3  Еще одна страна ЕС рассмотрит вопрос передачи ...   \n",
       "4  В Германии признали участие в украинском конфл...   \n",
       "\n",
       "                                                text  \n",
       "0  Президент Польши Анджей Дуда выразил протест р...  \n",
       "1  Канцлер Германии Олаф Шольц заявил, что эконом...  \n",
       "2  Европейский союз (ЕС) выделил Украине первый т...  \n",
       "3  Правительство еще одной страны ЕС — Нидерландо...  \n",
       "4  Германия участвует в конфликте на Украине непр...  "
      ]
     },
     "execution_count": 255,
     "metadata": {},
     "output_type": "execute_result"
    }
   ],
   "source": [
    "df.head()"
   ]
  },
  {
   "cell_type": "markdown",
   "metadata": {},
   "source": [
    "Изначально я собирался сделать для каждой категории json файл отдельный, однако когда я все же решил посмотреть почту, я понял что он должен быть один, переделывать было лениво, так что я оставил так. Проблема так же возникла с категорией и тэгами, я нашел их, однако они были в скриптах, а как оттуда их достать без танцев с бубном я не допер, так что оставлю под коментом, может потом пойму или забью и сменю сайт, сейчас уже времени на это нет(puid58 как мне кажется и есть тэг статьи, просто на ленте кроме этого вообще ничего нет)."
   ]
  },
  {
   "cell_type": "code",
   "execution_count": 318,
   "metadata": {},
   "outputs": [
    {
     "data": {
      "text/plain": [
       "<script>window._lentaData = window._lentaData || {};\n",
       "window._lentaData.puids = {\"puid6\":\"LENTA_WORLD\",\"puid18\":\"LENTA_WORLD_POLITIC\",\"puid15\":\"news\",\"puid26\":null,\"puid48\":null,\"puid58\":\"varshava:polsha:rf:ukraina\",\"puid60\":\"duda-andzhey\",\"puid59\":\"business:good_news_auto:weapon:gc\",\"puid62\":null};</script>"
      ]
     },
     "execution_count": 318,
     "metadata": {},
     "output_type": "execute_result"
    }
   ],
   "source": [
    "#page = requests.get(posts[0])\n",
    "#soup = BeautifulSoup(page.text, \"html.parser\")\n",
    "#a = soup.findAll('script')\n",
    "#a[6]"
   ]
  },
  {
   "cell_type": "markdown",
   "metadata": {},
   "source": [
    "Достать эти puid я смог только ввиде str."
   ]
  },
  {
   "cell_type": "code",
   "execution_count": 319,
   "metadata": {},
   "outputs": [
    {
     "data": {
      "text/plain": [
       "'window._lentaData = window._lentaData || {};\\nwindow._lentaData.puids = {\"puid6\":\"LENTA_WORLD\",\"puid18\":\"LENTA_WORLD_POLITIC\",\"puid15\":\"news\",\"puid26\":null,\"puid48\":null,\"puid58\":\"varshava:polsha:rf:ukraina\",\"puid60\":\"duda-andzhey\",\"puid59\":\"business:good_news_auto:weapon:gc\",\"puid62\":null};'"
      ]
     },
     "execution_count": 319,
     "metadata": {},
     "output_type": "execute_result"
    }
   ],
   "source": [
    "#script = a[6].string.strip()\n",
    "#script"
   ]
  },
  {
   "cell_type": "code",
   "execution_count": 315,
   "metadata": {},
   "outputs": [],
   "source": [
    "for i in range(1, 8):\n",
    "    url = f\"https://lenta.ru/rubrics/economics/economy/{i}/\"\n",
    "    page = requests.get(url)\n",
    "    News = []\n",
    "    soup = BeautifulSoup(page.text, \"html.parser\")\n",
    "    for links in soup.findAll(\"a\", class_=\"card-full-news _subrubric\"):\n",
    "        with open(links_filename, \"a\") as file:\n",
    "            file.write('https://lenta.ru' + links.get('href') + '\\n')"
   ]
  },
  {
   "cell_type": "code",
   "execution_count": 314,
   "metadata": {},
   "outputs": [
    {
     "data": {
      "text/plain": [
       "'https://lenta.ru/news/2022/02/16/ataka_na_ukrainu/'"
      ]
     },
     "execution_count": 314,
     "metadata": {},
     "output_type": "execute_result"
    }
   ],
   "source": [
    "posts[1026]"
   ]
  },
  {
   "cell_type": "code",
   "execution_count": 324,
   "metadata": {},
   "outputs": [],
   "source": [
    "for i in range(1, 8):\n",
    "    url = f\"https://lenta.ru/rubrics/economics/markets/{i}/\"\n",
    "    page = requests.get(url)\n",
    "    News = []\n",
    "    soup = BeautifulSoup(page.text, \"html.parser\")\n",
    "    for links in soup.findAll(\"a\", class_=\"card-full-news _subrubric\"):\n",
    "        with open(links_filename, \"a\") as file:\n",
    "            file.write('https://lenta.ru' + links.get('href') + '\\n')"
   ]
  },
  {
   "cell_type": "code",
   "execution_count": 325,
   "metadata": {},
   "outputs": [],
   "source": [
    "for i in range(1, 8):\n",
    "    url = f\"https://lenta.ru/rubrics/economics/finance/{i}/\"\n",
    "    page = requests.get(url)\n",
    "    News = []\n",
    "    soup = BeautifulSoup(page.text, \"html.parser\")\n",
    "    for links in soup.findAll(\"a\", class_=\"card-full-news _subrubric\"):\n",
    "        with open(links_filename, \"a\") as file:\n",
    "            file.write('https://lenta.ru' + links.get('href') + '\\n')"
   ]
  },
  {
   "cell_type": "code",
   "execution_count": 326,
   "metadata": {},
   "outputs": [],
   "source": [
    "for i in range(1, 8):\n",
    "    url = f\"https://lenta.ru/rubrics/economics/business_climate/{i}/\"\n",
    "    page = requests.get(url)\n",
    "    News = []\n",
    "    soup = BeautifulSoup(page.text, \"html.parser\")\n",
    "    for links in soup.findAll(\"a\", class_=\"card-full-news _subrubric\"):\n",
    "        with open(links_filename, \"a\") as file:\n",
    "            file.write('https://lenta.ru' + links.get('href') + '\\n')"
   ]
  },
  {
   "cell_type": "code",
   "execution_count": 336,
   "metadata": {},
   "outputs": [],
   "source": [
    "for i in range(1, 8):\n",
    "    url = f\"https://lenta.ru/rubrics/culture/kino/{i}/\"\n",
    "    page = requests.get(url)\n",
    "    News = []\n",
    "    soup = BeautifulSoup(page.text, \"html.parser\")\n",
    "    for links in soup.findAll(\"a\", class_=\"card-full-news _subrubric\"):\n",
    "        with open(links_filename, \"a\") as file:\n",
    "            file.write('https://lenta.ru' + links.get('href') + '\\n')"
   ]
  },
  {
   "cell_type": "code",
   "execution_count": 337,
   "metadata": {},
   "outputs": [],
   "source": [
    "for i in range(1, 8):\n",
    "    url = f\"https://lenta.ru/rubrics/culture/series/{i}/\"\n",
    "    page = requests.get(url)\n",
    "    News = []\n",
    "    soup = BeautifulSoup(page.text, \"html.parser\")\n",
    "    for links in soup.findAll(\"a\", class_=\"card-full-news _subrubric\"):\n",
    "        with open(links_filename, \"a\") as file:\n",
    "            file.write('https://lenta.ru' + links.get('href') + '\\n')"
   ]
  },
  {
   "cell_type": "code",
   "execution_count": 338,
   "metadata": {},
   "outputs": [],
   "source": [
    "for i in range(1, 8):\n",
    "    url = f\"https://lenta.ru/rubrics/culture/music/{i}/\"\n",
    "    page = requests.get(url)\n",
    "    News = []\n",
    "    soup = BeautifulSoup(page.text, \"html.parser\")\n",
    "    for links in soup.findAll(\"a\", class_=\"card-full-news _subrubric\"):\n",
    "        with open(links_filename, \"a\") as file:\n",
    "            file.write('https://lenta.ru' + links.get('href') + '\\n')"
   ]
  },
  {
   "cell_type": "code",
   "execution_count": 339,
   "metadata": {},
   "outputs": [],
   "source": [
    "for i in range(1, 8):\n",
    "    url = f\"https://lenta.ru/rubrics/culture/books/{i}/\"\n",
    "    page = requests.get(url)\n",
    "    News = []\n",
    "    soup = BeautifulSoup(page.text, \"html.parser\")\n",
    "    for links in soup.findAll(\"a\", class_=\"card-full-news _subrubric\"):\n",
    "        with open(links_filename, \"a\") as file:\n",
    "            file.write('https://lenta.ru' + links.get('href') + '\\n')"
   ]
  },
  {
   "cell_type": "code",
   "execution_count": 340,
   "metadata": {},
   "outputs": [],
   "source": [
    "for i in range(1, 8):\n",
    "    url = f\"https://lenta.ru/rubrics/culture/art/{i}/\"\n",
    "    page = requests.get(url)\n",
    "    News = []\n",
    "    soup = BeautifulSoup(page.text, \"html.parser\")\n",
    "    for links in soup.findAll(\"a\", class_=\"card-full-news _subrubric\"):\n",
    "        with open(links_filename, \"a\") as file:\n",
    "            file.write('https://lenta.ru' + links.get('href') + '\\n')"
   ]
  },
  {
   "cell_type": "code",
   "execution_count": 341,
   "metadata": {},
   "outputs": [],
   "source": [
    "for i in range(1, 8):\n",
    "    url = f\"https://lenta.ru/rubrics/sport/football/{i}/\"\n",
    "    page = requests.get(url)\n",
    "    News = []\n",
    "    soup = BeautifulSoup(page.text, \"html.parser\")\n",
    "    for links in soup.findAll(\"a\", class_=\"card-full-news _subrubric\"):\n",
    "        with open(links_filename, \"a\") as file:\n",
    "            file.write('https://lenta.ru' + links.get('href') + '\\n')"
   ]
  },
  {
   "cell_type": "code",
   "execution_count": 342,
   "metadata": {},
   "outputs": [],
   "source": [
    "for i in range(1, 8):\n",
    "    url = f\"https://lenta.ru/rubrics/sport/boxing/{i}/\"\n",
    "    page = requests.get(url)\n",
    "    News = []\n",
    "    soup = BeautifulSoup(page.text, \"html.parser\")\n",
    "    for links in soup.findAll(\"a\", class_=\"card-full-news _subrubric\"):\n",
    "        with open(links_filename, \"a\") as file:\n",
    "            file.write('https://lenta.ru' + links.get('href') + '\\n')"
   ]
  },
  {
   "cell_type": "code",
   "execution_count": 343,
   "metadata": {},
   "outputs": [],
   "source": [
    "for i in range(1, 8):\n",
    "    url = f\"https://lenta.ru/rubrics/sport/winter/{i}/\"\n",
    "    page = requests.get(url)\n",
    "    News = []\n",
    "    soup = BeautifulSoup(page.text, \"html.parser\")\n",
    "    for links in soup.findAll(\"a\", class_=\"card-full-news _subrubric\"):\n",
    "        with open(links_filename, \"a\") as file:\n",
    "            file.write('https://lenta.ru' + links.get('href') + '\\n')"
   ]
  },
  {
   "cell_type": "code",
   "execution_count": 344,
   "metadata": {},
   "outputs": [],
   "source": [
    "for i in range(1, 8):\n",
    "    url = f\"https://lenta.ru/rubrics/sport/auto/{i}/\"\n",
    "    page = requests.get(url)\n",
    "    News = []\n",
    "    soup = BeautifulSoup(page.text, \"html.parser\")\n",
    "    for links in soup.findAll(\"a\", class_=\"card-full-news _subrubric\"):\n",
    "        with open(links_filename, \"a\") as file:\n",
    "            file.write('https://lenta.ru' + links.get('href') + '\\n')"
   ]
  },
  {
   "cell_type": "code",
   "execution_count": 345,
   "metadata": {},
   "outputs": [],
   "source": [
    "for i in range(1, 8):\n",
    "    url = f\"https://lenta.ru/rubrics/sport/olympiad/{i}/\"\n",
    "    page = requests.get(url)\n",
    "    News = []\n",
    "    soup = BeautifulSoup(page.text, \"html.parser\")\n",
    "    for links in soup.findAll(\"a\", class_=\"card-full-news _subrubric\"):\n",
    "        with open(links_filename, \"a\") as file:\n",
    "            file.write('https://lenta.ru' + links.get('href') + '\\n')"
   ]
  },
  {
   "cell_type": "code",
   "execution_count": 346,
   "metadata": {},
   "outputs": [],
   "source": [
    "posts = []\n",
    "with open(links_filename) as file:\n",
    "    for line in file:\n",
    "        posts.append(line[:-1])"
   ]
  },
  {
   "cell_type": "code",
   "execution_count": 348,
   "metadata": {},
   "outputs": [
    {
     "data": {
      "text/plain": [
       "'https://lenta.ru/news/2022/02/16/biathlon/'"
      ]
     },
     "execution_count": 348,
     "metadata": {},
     "output_type": "execute_result"
    }
   ],
   "source": [
    "posts[3976]"
   ]
  },
  {
   "cell_type": "code",
   "execution_count": 349,
   "metadata": {},
   "outputs": [],
   "source": [
    "df = pd.DataFrame(columns=[\"link\", \"category\", \"title\", \"text\"])"
   ]
  },
  {
   "cell_type": "markdown",
   "metadata": {},
   "source": [
    "На этом сайте категории разбиты на подкатегории, и как я упоминал выше архиф я не нашел и скачивал только доступные 7 страниц, с одной подкатегории набирается где-то 220-230 ссылок, в итоге подкатегорий здесь 5 на каждую категорию. В title сначало идет названии подкатегории, а потом категории, я решил упомянуть их, чтобы было."
   ]
  },
  {
   "cell_type": "code",
   "execution_count": 404,
   "metadata": {},
   "outputs": [],
   "source": [
    "for i in range(len(posts)):\n",
    "    page = requests.get(posts[i])\n",
    "    soup = BeautifulSoup(page.text, \"html.parser\")\n",
    "    title = soup.title.text\n",
    "    position = title.find(\":\")\n",
    "    category = title[position+2 : title.find(\": L\", position)]\n",
    "    title = title[:position]\n",
    "    text = soup.find(\"div\", class_ = \"topic-body__content\").get_text()\n",
    "    df.loc[i] = [posts[i], category, title, text] "
   ]
  },
  {
   "cell_type": "code",
   "execution_count": 405,
   "metadata": {},
   "outputs": [
    {
     "data": {
      "text/html": [
       "<div>\n",
       "<style scoped>\n",
       "    .dataframe tbody tr th:only-of-type {\n",
       "        vertical-align: middle;\n",
       "    }\n",
       "\n",
       "    .dataframe tbody tr th {\n",
       "        vertical-align: top;\n",
       "    }\n",
       "\n",
       "    .dataframe thead th {\n",
       "        text-align: right;\n",
       "    }\n",
       "</style>\n",
       "<table border=\"1\" class=\"dataframe\">\n",
       "  <thead>\n",
       "    <tr style=\"text-align: right;\">\n",
       "      <th></th>\n",
       "      <th>link</th>\n",
       "      <th>category</th>\n",
       "      <th>title</th>\n",
       "      <th>text</th>\n",
       "    </tr>\n",
       "  </thead>\n",
       "  <tbody>\n",
       "    <tr>\n",
       "      <th>count</th>\n",
       "      <td>3977</td>\n",
       "      <td>3977</td>\n",
       "      <td>3977</td>\n",
       "      <td>3977</td>\n",
       "    </tr>\n",
       "    <tr>\n",
       "      <th>unique</th>\n",
       "      <td>3899</td>\n",
       "      <td>33</td>\n",
       "      <td>3895</td>\n",
       "      <td>3899</td>\n",
       "    </tr>\n",
       "    <tr>\n",
       "      <th>top</th>\n",
       "      <td>https://lenta.ru/news/2022/12/15/eritreamilita...</td>\n",
       "      <td>Политика: Мир</td>\n",
       "      <td>Проигравшего на выборах республиканца задержал...</td>\n",
       "      <td>Вооруженные силы Эритреи убили более 50 челове...</td>\n",
       "    </tr>\n",
       "    <tr>\n",
       "      <th>freq</th>\n",
       "      <td>3</td>\n",
       "      <td>458</td>\n",
       "      <td>3</td>\n",
       "      <td>3</td>\n",
       "    </tr>\n",
       "  </tbody>\n",
       "</table>\n",
       "</div>"
      ],
      "text/plain": [
       "                                                     link       category  \\\n",
       "count                                                3977           3977   \n",
       "unique                                               3899             33   \n",
       "top     https://lenta.ru/news/2022/12/15/eritreamilita...  Политика: Мир   \n",
       "freq                                                    3            458   \n",
       "\n",
       "                                                    title  \\\n",
       "count                                                3977   \n",
       "unique                                               3895   \n",
       "top     Проигравшего на выборах республиканца задержал...   \n",
       "freq                                                    3   \n",
       "\n",
       "                                                     text  \n",
       "count                                                3977  \n",
       "unique                                               3899  \n",
       "top     Вооруженные силы Эритреи убили более 50 челове...  \n",
       "freq                                                    3  "
      ]
     },
     "execution_count": 405,
     "metadata": {},
     "output_type": "execute_result"
    }
   ],
   "source": [
    "df.describe()"
   ]
  },
  {
   "cell_type": "code",
   "execution_count": 406,
   "metadata": {},
   "outputs": [
    {
     "data": {
      "text/html": [
       "<div>\n",
       "<style scoped>\n",
       "    .dataframe tbody tr th:only-of-type {\n",
       "        vertical-align: middle;\n",
       "    }\n",
       "\n",
       "    .dataframe tbody tr th {\n",
       "        vertical-align: top;\n",
       "    }\n",
       "\n",
       "    .dataframe thead th {\n",
       "        text-align: right;\n",
       "    }\n",
       "</style>\n",
       "<table border=\"1\" class=\"dataframe\">\n",
       "  <thead>\n",
       "    <tr style=\"text-align: right;\">\n",
       "      <th></th>\n",
       "      <th>link</th>\n",
       "      <th>category</th>\n",
       "      <th>title</th>\n",
       "      <th>text</th>\n",
       "    </tr>\n",
       "  </thead>\n",
       "  <tbody>\n",
       "    <tr>\n",
       "      <th>0</th>\n",
       "      <td>https://lenta.ru/news/2023/01/17/russkiimir/</td>\n",
       "      <td>Политика: Мир</td>\n",
       "      <td>Президент Польши выразил протест идее русского...</td>\n",
       "      <td>Президент Польши Анджей Дуда выразил протест р...</td>\n",
       "    </tr>\n",
       "    <tr>\n",
       "      <th>1</th>\n",
       "      <td>https://lenta.ru/news/2023/01/17/frg/</td>\n",
       "      <td>Политика: Мир</td>\n",
       "      <td>Шольц высказался о последствиях энергетическог...</td>\n",
       "      <td>Канцлер Германии Олаф Шольц заявил, что эконом...</td>\n",
       "    </tr>\n",
       "    <tr>\n",
       "      <th>2</th>\n",
       "      <td>https://lenta.ru/news/2023/01/17/miliardi/</td>\n",
       "      <td>Политика: Мир</td>\n",
       "      <td>ЕС выделил Украине первый транш помощи</td>\n",
       "      <td>Европейский союз (ЕС) выделил Украине первый т...</td>\n",
       "    </tr>\n",
       "    <tr>\n",
       "      <th>3</th>\n",
       "      <td>https://lenta.ru/news/2023/01/17/netherland/</td>\n",
       "      <td>Политика: Мир</td>\n",
       "      <td>Еще одна страна ЕС рассмотрит вопрос передачи ...</td>\n",
       "      <td>Правительство еще одной страны ЕС — Нидерландо...</td>\n",
       "    </tr>\n",
       "    <tr>\n",
       "      <th>4</th>\n",
       "      <td>https://lenta.ru/news/2023/01/17/pistoriusss/</td>\n",
       "      <td>Политика: Мир</td>\n",
       "      <td>В Германии признали участие в украинском конфл...</td>\n",
       "      <td>Германия участвует в конфликте на Украине непр...</td>\n",
       "    </tr>\n",
       "  </tbody>\n",
       "</table>\n",
       "</div>"
      ],
      "text/plain": [
       "                                            link       category  \\\n",
       "0   https://lenta.ru/news/2023/01/17/russkiimir/  Политика: Мир   \n",
       "1          https://lenta.ru/news/2023/01/17/frg/  Политика: Мир   \n",
       "2     https://lenta.ru/news/2023/01/17/miliardi/  Политика: Мир   \n",
       "3   https://lenta.ru/news/2023/01/17/netherland/  Политика: Мир   \n",
       "4  https://lenta.ru/news/2023/01/17/pistoriusss/  Политика: Мир   \n",
       "\n",
       "                                               title  \\\n",
       "0  Президент Польши выразил протест идее русского...   \n",
       "1  Шольц высказался о последствиях энергетическог...   \n",
       "2             ЕС выделил Украине первый транш помощи   \n",
       "3  Еще одна страна ЕС рассмотрит вопрос передачи ...   \n",
       "4  В Германии признали участие в украинском конфл...   \n",
       "\n",
       "                                                text  \n",
       "0  Президент Польши Анджей Дуда выразил протест р...  \n",
       "1  Канцлер Германии Олаф Шольц заявил, что эконом...  \n",
       "2  Европейский союз (ЕС) выделил Украине первый т...  \n",
       "3  Правительство еще одной страны ЕС — Нидерландо...  \n",
       "4  Германия участвует в конфликте на Украине непр...  "
      ]
     },
     "execution_count": 406,
     "metadata": {},
     "output_type": "execute_result"
    }
   ],
   "source": [
    "df.head()"
   ]
  },
  {
   "cell_type": "code",
   "execution_count": 407,
   "metadata": {},
   "outputs": [
    {
     "data": {
      "text/html": [
       "<div>\n",
       "<style scoped>\n",
       "    .dataframe tbody tr th:only-of-type {\n",
       "        vertical-align: middle;\n",
       "    }\n",
       "\n",
       "    .dataframe tbody tr th {\n",
       "        vertical-align: top;\n",
       "    }\n",
       "\n",
       "    .dataframe thead th {\n",
       "        text-align: right;\n",
       "    }\n",
       "</style>\n",
       "<table border=\"1\" class=\"dataframe\">\n",
       "  <thead>\n",
       "    <tr style=\"text-align: right;\">\n",
       "      <th></th>\n",
       "      <th>link</th>\n",
       "      <th>category</th>\n",
       "      <th>title</th>\n",
       "      <th>text</th>\n",
       "    </tr>\n",
       "  </thead>\n",
       "  <tbody>\n",
       "    <tr>\n",
       "      <th>0</th>\n",
       "      <td>https://lenta.ru/news/2023/01/17/russkiimir/</td>\n",
       "      <td>Политика: Мир</td>\n",
       "      <td>Президент Польши выразил протест идее русского...</td>\n",
       "      <td>Президент Польши Анджей Дуда выразил протест р...</td>\n",
       "    </tr>\n",
       "    <tr>\n",
       "      <th>1</th>\n",
       "      <td>https://lenta.ru/news/2023/01/17/frg/</td>\n",
       "      <td>Политика: Мир</td>\n",
       "      <td>Шольц высказался о последствиях энергетическог...</td>\n",
       "      <td>Канцлер Германии Олаф Шольц заявил, что эконом...</td>\n",
       "    </tr>\n",
       "    <tr>\n",
       "      <th>2</th>\n",
       "      <td>https://lenta.ru/news/2023/01/17/miliardi/</td>\n",
       "      <td>Политика: Мир</td>\n",
       "      <td>ЕС выделил Украине первый транш помощи</td>\n",
       "      <td>Европейский союз (ЕС) выделил Украине первый т...</td>\n",
       "    </tr>\n",
       "    <tr>\n",
       "      <th>3</th>\n",
       "      <td>https://lenta.ru/news/2023/01/17/netherland/</td>\n",
       "      <td>Политика: Мир</td>\n",
       "      <td>Еще одна страна ЕС рассмотрит вопрос передачи ...</td>\n",
       "      <td>Правительство еще одной страны ЕС — Нидерландо...</td>\n",
       "    </tr>\n",
       "    <tr>\n",
       "      <th>4</th>\n",
       "      <td>https://lenta.ru/news/2023/01/17/pistoriusss/</td>\n",
       "      <td>Политика: Мир</td>\n",
       "      <td>В Германии признали участие в украинском конфл...</td>\n",
       "      <td>Германия участвует в конфликте на Украине непр...</td>\n",
       "    </tr>\n",
       "    <tr>\n",
       "      <th>...</th>\n",
       "      <td>...</td>\n",
       "      <td>...</td>\n",
       "      <td>...</td>\n",
       "      <td>...</td>\n",
       "    </tr>\n",
       "    <tr>\n",
       "      <th>3972</th>\n",
       "      <td>https://lenta.ru/news/2022/02/16/lyzhnya/</td>\n",
       "      <td>Олимпиада: Спорт</td>\n",
       "      <td>Российские лыжники завоевали бронзу в командно...</td>\n",
       "      <td>Российские лыжники завоевали бронзу в командно...</td>\n",
       "    </tr>\n",
       "    <tr>\n",
       "      <th>3973</th>\n",
       "      <td>https://lenta.ru/news/2022/02/16/fetisov/</td>\n",
       "      <td>Олимпиада: Спорт</td>\n",
       "      <td>Фетисов оценил шансы сборной России по хоккею ...</td>\n",
       "      <td>Двукратный олимпийский чемпион по хоккею Вячес...</td>\n",
       "    </tr>\n",
       "    <tr>\n",
       "      <th>3974</th>\n",
       "      <td>https://lenta.ru/news/2022/02/16/lyzhi/</td>\n",
       "      <td>Олимпиада: Спорт</td>\n",
       "      <td>Российские лыжницы завоевали бронзу в командно...</td>\n",
       "      <td>Российские лыжницы завоевали бронзу в командно...</td>\n",
       "    </tr>\n",
       "    <tr>\n",
       "      <th>3975</th>\n",
       "      <td>https://lenta.ru/news/2022/02/16/granddad/</td>\n",
       "      <td>Олимпиада: Спорт</td>\n",
       "      <td>Дедушка Валиевой подтвердил употребление триме...</td>\n",
       "      <td>Дедушка российской фигуристки Камилы Валиевой ...</td>\n",
       "    </tr>\n",
       "    <tr>\n",
       "      <th>3976</th>\n",
       "      <td>https://lenta.ru/news/2022/02/16/biathlon/</td>\n",
       "      <td>Олимпиада: Спорт</td>\n",
       "      <td>Российские биатлонистки завоевали серебро в эс...</td>\n",
       "      <td>Российские биатлонистки завоевали серебро в эс...</td>\n",
       "    </tr>\n",
       "  </tbody>\n",
       "</table>\n",
       "<p>3977 rows × 4 columns</p>\n",
       "</div>"
      ],
      "text/plain": [
       "                                               link          category  \\\n",
       "0      https://lenta.ru/news/2023/01/17/russkiimir/     Политика: Мир   \n",
       "1             https://lenta.ru/news/2023/01/17/frg/     Политика: Мир   \n",
       "2        https://lenta.ru/news/2023/01/17/miliardi/     Политика: Мир   \n",
       "3      https://lenta.ru/news/2023/01/17/netherland/     Политика: Мир   \n",
       "4     https://lenta.ru/news/2023/01/17/pistoriusss/     Политика: Мир   \n",
       "...                                             ...               ...   \n",
       "3972      https://lenta.ru/news/2022/02/16/lyzhnya/  Олимпиада: Спорт   \n",
       "3973      https://lenta.ru/news/2022/02/16/fetisov/  Олимпиада: Спорт   \n",
       "3974        https://lenta.ru/news/2022/02/16/lyzhi/  Олимпиада: Спорт   \n",
       "3975     https://lenta.ru/news/2022/02/16/granddad/  Олимпиада: Спорт   \n",
       "3976     https://lenta.ru/news/2022/02/16/biathlon/  Олимпиада: Спорт   \n",
       "\n",
       "                                                  title  \\\n",
       "0     Президент Польши выразил протест идее русского...   \n",
       "1     Шольц высказался о последствиях энергетическог...   \n",
       "2                ЕС выделил Украине первый транш помощи   \n",
       "3     Еще одна страна ЕС рассмотрит вопрос передачи ...   \n",
       "4     В Германии признали участие в украинском конфл...   \n",
       "...                                                 ...   \n",
       "3972  Российские лыжники завоевали бронзу в командно...   \n",
       "3973  Фетисов оценил шансы сборной России по хоккею ...   \n",
       "3974  Российские лыжницы завоевали бронзу в командно...   \n",
       "3975  Дедушка Валиевой подтвердил употребление триме...   \n",
       "3976  Российские биатлонистки завоевали серебро в эс...   \n",
       "\n",
       "                                                   text  \n",
       "0     Президент Польши Анджей Дуда выразил протест р...  \n",
       "1     Канцлер Германии Олаф Шольц заявил, что эконом...  \n",
       "2     Европейский союз (ЕС) выделил Украине первый т...  \n",
       "3     Правительство еще одной страны ЕС — Нидерландо...  \n",
       "4     Германия участвует в конфликте на Украине непр...  \n",
       "...                                                 ...  \n",
       "3972  Российские лыжники завоевали бронзу в командно...  \n",
       "3973  Двукратный олимпийский чемпион по хоккею Вячес...  \n",
       "3974  Российские лыжницы завоевали бронзу в командно...  \n",
       "3975  Дедушка российской фигуристки Камилы Валиевой ...  \n",
       "3976  Российские биатлонистки завоевали серебро в эс...  \n",
       "\n",
       "[3977 rows x 4 columns]"
      ]
     },
     "execution_count": 407,
     "metadata": {},
     "output_type": "execute_result"
    }
   ],
   "source": [
    "df"
   ]
  },
  {
   "cell_type": "code",
   "execution_count": 408,
   "metadata": {},
   "outputs": [],
   "source": [
    "js = json.loads(df.to_json(force_ascii=False, orient='records'))"
   ]
  },
  {
   "cell_type": "code",
   "execution_count": 409,
   "metadata": {},
   "outputs": [],
   "source": [
    "with open('itog.json', 'w') as file:\n",
    "    for i in js:\n",
    "        file.write(json.dumps(i) + '\\n')"
   ]
  },
  {
   "cell_type": "code",
   "execution_count": 411,
   "metadata": {},
   "outputs": [
    {
     "ename": "JSONDecodeError",
     "evalue": "Extra data: line 2 column 1 (char 4156)",
     "output_type": "error",
     "traceback": [
      "\u001b[1;31m---------------------------------------------------------------------------\u001b[0m",
      "\u001b[1;31mJSONDecodeError\u001b[0m                           Traceback (most recent call last)",
      "\u001b[1;32m<ipython-input-411-bcc38ebd2ce1>\u001b[0m in \u001b[0;36m<module>\u001b[1;34m\u001b[0m\n\u001b[0;32m      1\u001b[0m \u001b[1;32mwith\u001b[0m \u001b[0mopen\u001b[0m\u001b[1;33m(\u001b[0m\u001b[1;34m'itog.json'\u001b[0m\u001b[1;33m)\u001b[0m \u001b[1;32mas\u001b[0m \u001b[0mf\u001b[0m\u001b[1;33m:\u001b[0m\u001b[1;33m\u001b[0m\u001b[1;33m\u001b[0m\u001b[0m\n\u001b[1;32m----> 2\u001b[1;33m     \u001b[0mtemplates\u001b[0m \u001b[1;33m=\u001b[0m \u001b[0mjson\u001b[0m\u001b[1;33m.\u001b[0m\u001b[0mload\u001b[0m\u001b[1;33m(\u001b[0m\u001b[0mf\u001b[0m\u001b[1;33m)\u001b[0m\u001b[1;33m\u001b[0m\u001b[1;33m\u001b[0m\u001b[0m\n\u001b[0m\u001b[0;32m      3\u001b[0m \u001b[1;33m\u001b[0m\u001b[0m\n\u001b[0;32m      4\u001b[0m \u001b[0mprint\u001b[0m\u001b[1;33m(\u001b[0m\u001b[0mtemplates\u001b[0m\u001b[1;33m)\u001b[0m\u001b[1;33m\u001b[0m\u001b[1;33m\u001b[0m\u001b[0m\n",
      "\u001b[1;32m~\\anaconda3\\lib\\json\\__init__.py\u001b[0m in \u001b[0;36mload\u001b[1;34m(fp, cls, object_hook, parse_float, parse_int, parse_constant, object_pairs_hook, **kw)\u001b[0m\n\u001b[0;32m    291\u001b[0m     \u001b[0mkwarg\u001b[0m\u001b[1;33m;\u001b[0m \u001b[0motherwise\u001b[0m\u001b[0;31m \u001b[0m\u001b[0;31m`\u001b[0m\u001b[0;31m`\u001b[0m\u001b[0mJSONDecoder\u001b[0m\u001b[0;31m`\u001b[0m\u001b[0;31m`\u001b[0m \u001b[1;32mis\u001b[0m \u001b[0mused\u001b[0m\u001b[1;33m.\u001b[0m\u001b[1;33m\u001b[0m\u001b[1;33m\u001b[0m\u001b[0m\n\u001b[0;32m    292\u001b[0m     \"\"\"\n\u001b[1;32m--> 293\u001b[1;33m     return loads(fp.read(),\n\u001b[0m\u001b[0;32m    294\u001b[0m         \u001b[0mcls\u001b[0m\u001b[1;33m=\u001b[0m\u001b[0mcls\u001b[0m\u001b[1;33m,\u001b[0m \u001b[0mobject_hook\u001b[0m\u001b[1;33m=\u001b[0m\u001b[0mobject_hook\u001b[0m\u001b[1;33m,\u001b[0m\u001b[1;33m\u001b[0m\u001b[1;33m\u001b[0m\u001b[0m\n\u001b[0;32m    295\u001b[0m         \u001b[0mparse_float\u001b[0m\u001b[1;33m=\u001b[0m\u001b[0mparse_float\u001b[0m\u001b[1;33m,\u001b[0m \u001b[0mparse_int\u001b[0m\u001b[1;33m=\u001b[0m\u001b[0mparse_int\u001b[0m\u001b[1;33m,\u001b[0m\u001b[1;33m\u001b[0m\u001b[1;33m\u001b[0m\u001b[0m\n",
      "\u001b[1;32m~\\anaconda3\\lib\\json\\__init__.py\u001b[0m in \u001b[0;36mloads\u001b[1;34m(s, cls, object_hook, parse_float, parse_int, parse_constant, object_pairs_hook, **kw)\u001b[0m\n\u001b[0;32m    355\u001b[0m             \u001b[0mparse_int\u001b[0m \u001b[1;32mis\u001b[0m \u001b[1;32mNone\u001b[0m \u001b[1;32mand\u001b[0m \u001b[0mparse_float\u001b[0m \u001b[1;32mis\u001b[0m \u001b[1;32mNone\u001b[0m \u001b[1;32mand\u001b[0m\u001b[1;33m\u001b[0m\u001b[1;33m\u001b[0m\u001b[0m\n\u001b[0;32m    356\u001b[0m             parse_constant is None and object_pairs_hook is None and not kw):\n\u001b[1;32m--> 357\u001b[1;33m         \u001b[1;32mreturn\u001b[0m \u001b[0m_default_decoder\u001b[0m\u001b[1;33m.\u001b[0m\u001b[0mdecode\u001b[0m\u001b[1;33m(\u001b[0m\u001b[0ms\u001b[0m\u001b[1;33m)\u001b[0m\u001b[1;33m\u001b[0m\u001b[1;33m\u001b[0m\u001b[0m\n\u001b[0m\u001b[0;32m    358\u001b[0m     \u001b[1;32mif\u001b[0m \u001b[0mcls\u001b[0m \u001b[1;32mis\u001b[0m \u001b[1;32mNone\u001b[0m\u001b[1;33m:\u001b[0m\u001b[1;33m\u001b[0m\u001b[1;33m\u001b[0m\u001b[0m\n\u001b[0;32m    359\u001b[0m         \u001b[0mcls\u001b[0m \u001b[1;33m=\u001b[0m \u001b[0mJSONDecoder\u001b[0m\u001b[1;33m\u001b[0m\u001b[1;33m\u001b[0m\u001b[0m\n",
      "\u001b[1;32m~\\anaconda3\\lib\\json\\decoder.py\u001b[0m in \u001b[0;36mdecode\u001b[1;34m(self, s, _w)\u001b[0m\n\u001b[0;32m    338\u001b[0m         \u001b[0mend\u001b[0m \u001b[1;33m=\u001b[0m \u001b[0m_w\u001b[0m\u001b[1;33m(\u001b[0m\u001b[0ms\u001b[0m\u001b[1;33m,\u001b[0m \u001b[0mend\u001b[0m\u001b[1;33m)\u001b[0m\u001b[1;33m.\u001b[0m\u001b[0mend\u001b[0m\u001b[1;33m(\u001b[0m\u001b[1;33m)\u001b[0m\u001b[1;33m\u001b[0m\u001b[1;33m\u001b[0m\u001b[0m\n\u001b[0;32m    339\u001b[0m         \u001b[1;32mif\u001b[0m \u001b[0mend\u001b[0m \u001b[1;33m!=\u001b[0m \u001b[0mlen\u001b[0m\u001b[1;33m(\u001b[0m\u001b[0ms\u001b[0m\u001b[1;33m)\u001b[0m\u001b[1;33m:\u001b[0m\u001b[1;33m\u001b[0m\u001b[1;33m\u001b[0m\u001b[0m\n\u001b[1;32m--> 340\u001b[1;33m             \u001b[1;32mraise\u001b[0m \u001b[0mJSONDecodeError\u001b[0m\u001b[1;33m(\u001b[0m\u001b[1;34m\"Extra data\"\u001b[0m\u001b[1;33m,\u001b[0m \u001b[0ms\u001b[0m\u001b[1;33m,\u001b[0m \u001b[0mend\u001b[0m\u001b[1;33m)\u001b[0m\u001b[1;33m\u001b[0m\u001b[1;33m\u001b[0m\u001b[0m\n\u001b[0m\u001b[0;32m    341\u001b[0m         \u001b[1;32mreturn\u001b[0m \u001b[0mobj\u001b[0m\u001b[1;33m\u001b[0m\u001b[1;33m\u001b[0m\u001b[0m\n\u001b[0;32m    342\u001b[0m \u001b[1;33m\u001b[0m\u001b[0m\n",
      "\u001b[1;31mJSONDecodeError\u001b[0m: Extra data: line 2 column 1 (char 4156)"
     ]
    }
   ],
   "source": [
    "with open('itog.json') as f:\n",
    "    templates = json.load(f)\n",
    "\n",
    "print(templates)"
   ]
  },
  {
   "cell_type": "code",
   "execution_count": null,
   "metadata": {},
   "outputs": [],
   "source": []
  }
 ],
 "metadata": {
  "kernelspec": {
   "display_name": "Python 3",
   "language": "python",
   "name": "python3"
  },
  "language_info": {
   "codemirror_mode": {
    "name": "ipython",
    "version": 3
   },
   "file_extension": ".py",
   "mimetype": "text/x-python",
   "name": "python",
   "nbconvert_exporter": "python",
   "pygments_lexer": "ipython3",
   "version": "3.8.3"
  }
 },
 "nbformat": 4,
 "nbformat_minor": 4
}
