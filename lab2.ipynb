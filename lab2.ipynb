{
 "cells": [
  {
   "cell_type": "code",
   "execution_count": 56,
   "metadata": {},
   "outputs": [],
   "source": [
    "import pandas as pd\n",
    "import json\n",
    "import pymorphy2\n",
    "import numpy as np\n",
    "import seaborn as sns\n",
    "from nltk.tokenize import word_tokenize\n",
    "from rusenttokenize import ru_sent_tokenize\n",
    "from nltk.corpus import stopwords\n",
    "from nltk.stem.snowball import RussianStemmer\n",
    "from sklearn.utils import shuffle\n",
    "from sklearn.model_selection import train_test_split\n",
    "from sklearn.feature_extraction.text import CountVectorizer, TfidfVectorizer\n",
    "import matplotlib.pyplot as plt\n",
    "from sklearn.model_selection import GridSearchCV\n",
    "from sklearn.neighbors import KNeighborsClassifier\n",
    "from sklearn.linear_model import SGDClassifier, LogisticRegression\n",
    "from sklearn.ensemble import RandomForestClassifier\n",
    "from sklearn.naive_bayes import MultinomialNB\n",
    "from sklearn.svm import SVC\n",
    "from sklearn import metrics"
   ]
  },
  {
   "cell_type": "code",
   "execution_count": 42,
   "metadata": {},
   "outputs": [
    {
     "data": {
      "text/html": [
       "<div>\n",
       "<style scoped>\n",
       "    .dataframe tbody tr th:only-of-type {\n",
       "        vertical-align: middle;\n",
       "    }\n",
       "\n",
       "    .dataframe tbody tr th {\n",
       "        vertical-align: top;\n",
       "    }\n",
       "\n",
       "    .dataframe thead th {\n",
       "        text-align: right;\n",
       "    }\n",
       "</style>\n",
       "<table border=\"1\" class=\"dataframe\">\n",
       "  <thead>\n",
       "    <tr style=\"text-align: right;\">\n",
       "      <th></th>\n",
       "      <th>link</th>\n",
       "      <th>category</th>\n",
       "      <th>title</th>\n",
       "      <th>tags</th>\n",
       "      <th>text</th>\n",
       "    </tr>\n",
       "  </thead>\n",
       "  <tbody>\n",
       "    <tr>\n",
       "      <th>0</th>\n",
       "      <td>https://lenta.ru/news/2023/01/17/russkiimir/</td>\n",
       "      <td>Политика: Мир</td>\n",
       "      <td>Президент Польши выразил протест идее русского...</td>\n",
       "      <td>varshava:polsha:rf:ukraina</td>\n",
       "      <td>Президент Польши Анджей Дуда выразил протест р...</td>\n",
       "    </tr>\n",
       "    <tr>\n",
       "      <th>1</th>\n",
       "      <td>https://lenta.ru/news/2023/01/17/frg/</td>\n",
       "      <td>Политика: Мир</td>\n",
       "      <td>Шольц высказался о последствиях энергетическог...</td>\n",
       "      <td>berlin:germaniya:ukraina</td>\n",
       "      <td>Канцлер Германии Олаф Шольц заявил, что эконом...</td>\n",
       "    </tr>\n",
       "    <tr>\n",
       "      <th>2</th>\n",
       "      <td>https://lenta.ru/news/2023/01/17/miliardi/</td>\n",
       "      <td>Политика: Мир</td>\n",
       "      <td>ЕС выделил Украине первый транш помощи</td>\n",
       "      <td>ukraina:shvetsiya</td>\n",
       "      <td>Европейский союз (ЕС) выделил Украине первый т...</td>\n",
       "    </tr>\n",
       "    <tr>\n",
       "      <th>3</th>\n",
       "      <td>https://lenta.ru/news/2023/01/17/netherland/</td>\n",
       "      <td>Политика: Мир</td>\n",
       "      <td>Еще одна страна ЕС рассмотрит вопрос передачи ...</td>\n",
       "      <td>niderlandy:ssha:ukraina</td>\n",
       "      <td>Правительство еще одной страны ЕС — Нидерландо...</td>\n",
       "    </tr>\n",
       "    <tr>\n",
       "      <th>4</th>\n",
       "      <td>https://lenta.ru/news/2023/01/17/pistoriusss/</td>\n",
       "      <td>Политика: Мир</td>\n",
       "      <td>В Германии признали участие в украинском конфл...</td>\n",
       "      <td>germaniya:ukraina</td>\n",
       "      <td>Германия участвует в конфликте на Украине непр...</td>\n",
       "    </tr>\n",
       "    <tr>\n",
       "      <th>...</th>\n",
       "      <td>...</td>\n",
       "      <td>...</td>\n",
       "      <td>...</td>\n",
       "      <td>...</td>\n",
       "      <td>...</td>\n",
       "    </tr>\n",
       "    <tr>\n",
       "      <th>3972</th>\n",
       "      <td>https://lenta.ru/news/2022/02/16/lyzhnya/</td>\n",
       "      <td>Олимпиада: Спорт</td>\n",
       "      <td>Российские лыжники завоевали бронзу в командно...</td>\n",
       "      <td>bolshunov-aleksandr:terentiev-aleksandr:niskan...</td>\n",
       "      <td>Российские лыжники завоевали бронзу в командно...</td>\n",
       "    </tr>\n",
       "    <tr>\n",
       "      <th>3973</th>\n",
       "      <td>https://lenta.ru/news/2022/02/16/fetisov/</td>\n",
       "      <td>Олимпиада: Спорт</td>\n",
       "      <td>Фетисов оценил шансы сборной России по хоккею ...</td>\n",
       "      <td>shipachev-vadim:voynov-vyacheslav:fetisov-vyac...</td>\n",
       "      <td>Двукратный олимпийский чемпион по хоккею Вячес...</td>\n",
       "    </tr>\n",
       "    <tr>\n",
       "      <th>3974</th>\n",
       "      <td>https://lenta.ru/news/2022/02/16/lyzhi/</td>\n",
       "      <td>Олимпиада: Спорт</td>\n",
       "      <td>Российские лыжницы завоевали бронзу в командно...</td>\n",
       "      <td>bolshunov-aleksandr:chervotkin-aleksey:stepano...</td>\n",
       "      <td>Российские лыжницы завоевали бронзу в командно...</td>\n",
       "    </tr>\n",
       "    <tr>\n",
       "      <th>3975</th>\n",
       "      <td>https://lenta.ru/news/2022/02/16/granddad/</td>\n",
       "      <td>Олимпиада: Спорт</td>\n",
       "      <td>Дедушка Валиевой подтвердил употребление триме...</td>\n",
       "      <td>osvald-denis:valieva-kamila</td>\n",
       "      <td>Дедушка российской фигуристки Камилы Валиевой ...</td>\n",
       "    </tr>\n",
       "    <tr>\n",
       "      <th>3976</th>\n",
       "      <td>https://lenta.ru/news/2022/02/16/biathlon/</td>\n",
       "      <td>Олимпиада: Спорт</td>\n",
       "      <td>Российские биатлонистки завоевали серебро в эс...</td>\n",
       "      <td>loginov-aleksandr:kazakevich-irina:reztsova-kr...</td>\n",
       "      <td>Российские биатлонистки завоевали серебро в эс...</td>\n",
       "    </tr>\n",
       "  </tbody>\n",
       "</table>\n",
       "<p>3977 rows × 5 columns</p>\n",
       "</div>"
      ],
      "text/plain": [
       "                                               link          category  \\\n",
       "0      https://lenta.ru/news/2023/01/17/russkiimir/     Политика: Мир   \n",
       "1             https://lenta.ru/news/2023/01/17/frg/     Политика: Мир   \n",
       "2        https://lenta.ru/news/2023/01/17/miliardi/     Политика: Мир   \n",
       "3      https://lenta.ru/news/2023/01/17/netherland/     Политика: Мир   \n",
       "4     https://lenta.ru/news/2023/01/17/pistoriusss/     Политика: Мир   \n",
       "...                                             ...               ...   \n",
       "3972      https://lenta.ru/news/2022/02/16/lyzhnya/  Олимпиада: Спорт   \n",
       "3973      https://lenta.ru/news/2022/02/16/fetisov/  Олимпиада: Спорт   \n",
       "3974        https://lenta.ru/news/2022/02/16/lyzhi/  Олимпиада: Спорт   \n",
       "3975     https://lenta.ru/news/2022/02/16/granddad/  Олимпиада: Спорт   \n",
       "3976     https://lenta.ru/news/2022/02/16/biathlon/  Олимпиада: Спорт   \n",
       "\n",
       "                                                  title  \\\n",
       "0     Президент Польши выразил протест идее русского...   \n",
       "1     Шольц высказался о последствиях энергетическог...   \n",
       "2                ЕС выделил Украине первый транш помощи   \n",
       "3     Еще одна страна ЕС рассмотрит вопрос передачи ...   \n",
       "4     В Германии признали участие в украинском конфл...   \n",
       "...                                                 ...   \n",
       "3972  Российские лыжники завоевали бронзу в командно...   \n",
       "3973  Фетисов оценил шансы сборной России по хоккею ...   \n",
       "3974  Российские лыжницы завоевали бронзу в командно...   \n",
       "3975  Дедушка Валиевой подтвердил употребление триме...   \n",
       "3976  Российские биатлонистки завоевали серебро в эс...   \n",
       "\n",
       "                                                   tags  \\\n",
       "0                            varshava:polsha:rf:ukraina   \n",
       "1                              berlin:germaniya:ukraina   \n",
       "2                                     ukraina:shvetsiya   \n",
       "3                               niderlandy:ssha:ukraina   \n",
       "4                                     germaniya:ukraina   \n",
       "...                                                 ...   \n",
       "3972  bolshunov-aleksandr:terentiev-aleksandr:niskan...   \n",
       "3973  shipachev-vadim:voynov-vyacheslav:fetisov-vyac...   \n",
       "3974  bolshunov-aleksandr:chervotkin-aleksey:stepano...   \n",
       "3975                        osvald-denis:valieva-kamila   \n",
       "3976  loginov-aleksandr:kazakevich-irina:reztsova-kr...   \n",
       "\n",
       "                                                   text  \n",
       "0     Президент Польши Анджей Дуда выразил протест р...  \n",
       "1     Канцлер Германии Олаф Шольц заявил, что эконом...  \n",
       "2     Европейский союз (ЕС) выделил Украине первый т...  \n",
       "3     Правительство еще одной страны ЕС — Нидерландо...  \n",
       "4     Германия участвует в конфликте на Украине непр...  \n",
       "...                                                 ...  \n",
       "3972  Российские лыжники завоевали бронзу в командно...  \n",
       "3973  Двукратный олимпийский чемпион по хоккею Вячес...  \n",
       "3974  Российские лыжницы завоевали бронзу в командно...  \n",
       "3975  Дедушка российской фигуристки Камилы Валиевой ...  \n",
       "3976  Российские биатлонистки завоевали серебро в эс...  \n",
       "\n",
       "[3977 rows x 5 columns]"
      ]
     },
     "execution_count": 42,
     "metadata": {},
     "output_type": "execute_result"
    }
   ],
   "source": [
    "df = pd.read_json('itog.json', lines=True)\n",
    "df"
   ]
  },
  {
   "cell_type": "code",
   "execution_count": 44,
   "metadata": {},
   "outputs": [],
   "source": [
    "for i in range(len(df)):\n",
    "    text = df['text'][i]\n",
    "    punct = \"!'#$%&()*+,-./:;<=>?@[\\]^_`{|}~„“«»†*—/\\-‘’\"\n",
    "    clean_text = [i.strip(punct) for i in word_tokenize(text)]\n",
    "    clean_text = [i.lower() for i in clean_text if i != '']\n",
    "    sw = stopwords.words('russian')\n",
    "    clean_text1 = []\n",
    "    for j in clean_text:\n",
    "        if j not in sw:\n",
    "            clean_text1.append(j)\n",
    "    df['text'][i] = clean_text1"
   ]
  },
  {
   "cell_type": "code",
   "execution_count": 45,
   "metadata": {},
   "outputs": [
    {
     "data": {
      "text/html": [
       "<div>\n",
       "<style scoped>\n",
       "    .dataframe tbody tr th:only-of-type {\n",
       "        vertical-align: middle;\n",
       "    }\n",
       "\n",
       "    .dataframe tbody tr th {\n",
       "        vertical-align: top;\n",
       "    }\n",
       "\n",
       "    .dataframe thead th {\n",
       "        text-align: right;\n",
       "    }\n",
       "</style>\n",
       "<table border=\"1\" class=\"dataframe\">\n",
       "  <thead>\n",
       "    <tr style=\"text-align: right;\">\n",
       "      <th></th>\n",
       "      <th>link</th>\n",
       "      <th>category</th>\n",
       "      <th>title</th>\n",
       "      <th>tags</th>\n",
       "      <th>text</th>\n",
       "    </tr>\n",
       "  </thead>\n",
       "  <tbody>\n",
       "    <tr>\n",
       "      <th>0</th>\n",
       "      <td>https://lenta.ru/news/2023/01/17/russkiimir/</td>\n",
       "      <td>Политика: Мир</td>\n",
       "      <td>Президент Польши выразил протест идее русского...</td>\n",
       "      <td>varshava:polsha:rf:ukraina</td>\n",
       "      <td>[президент, польши, анджей, дуда, выразил, про...</td>\n",
       "    </tr>\n",
       "    <tr>\n",
       "      <th>1</th>\n",
       "      <td>https://lenta.ru/news/2023/01/17/frg/</td>\n",
       "      <td>Политика: Мир</td>\n",
       "      <td>Шольц высказался о последствиях энергетическог...</td>\n",
       "      <td>berlin:germaniya:ukraina</td>\n",
       "      <td>[канцлер, германии, олаф, шольц, заявил, эконо...</td>\n",
       "    </tr>\n",
       "    <tr>\n",
       "      <th>2</th>\n",
       "      <td>https://lenta.ru/news/2023/01/17/miliardi/</td>\n",
       "      <td>Политика: Мир</td>\n",
       "      <td>ЕС выделил Украине первый транш помощи</td>\n",
       "      <td>ukraina:shvetsiya</td>\n",
       "      <td>[европейский, союз, ес, выделил, украине, перв...</td>\n",
       "    </tr>\n",
       "    <tr>\n",
       "      <th>3</th>\n",
       "      <td>https://lenta.ru/news/2023/01/17/netherland/</td>\n",
       "      <td>Политика: Мир</td>\n",
       "      <td>Еще одна страна ЕС рассмотрит вопрос передачи ...</td>\n",
       "      <td>niderlandy:ssha:ukraina</td>\n",
       "      <td>[правительство, одной, страны, ес, нидерландов...</td>\n",
       "    </tr>\n",
       "    <tr>\n",
       "      <th>4</th>\n",
       "      <td>https://lenta.ru/news/2023/01/17/pistoriusss/</td>\n",
       "      <td>Политика: Мир</td>\n",
       "      <td>В Германии признали участие в украинском конфл...</td>\n",
       "      <td>germaniya:ukraina</td>\n",
       "      <td>[германия, участвует, конфликте, украине, непр...</td>\n",
       "    </tr>\n",
       "    <tr>\n",
       "      <th>...</th>\n",
       "      <td>...</td>\n",
       "      <td>...</td>\n",
       "      <td>...</td>\n",
       "      <td>...</td>\n",
       "      <td>...</td>\n",
       "    </tr>\n",
       "    <tr>\n",
       "      <th>3972</th>\n",
       "      <td>https://lenta.ru/news/2022/02/16/lyzhnya/</td>\n",
       "      <td>Олимпиада: Спорт</td>\n",
       "      <td>Российские лыжники завоевали бронзу в командно...</td>\n",
       "      <td>bolshunov-aleksandr:terentiev-aleksandr:niskan...</td>\n",
       "      <td>[российские, лыжники, завоевали, бронзу, коман...</td>\n",
       "    </tr>\n",
       "    <tr>\n",
       "      <th>3973</th>\n",
       "      <td>https://lenta.ru/news/2022/02/16/fetisov/</td>\n",
       "      <td>Олимпиада: Спорт</td>\n",
       "      <td>Фетисов оценил шансы сборной России по хоккею ...</td>\n",
       "      <td>shipachev-vadim:voynov-vyacheslav:fetisov-vyac...</td>\n",
       "      <td>[двукратный, олимпийский, чемпион, хоккею, вяч...</td>\n",
       "    </tr>\n",
       "    <tr>\n",
       "      <th>3974</th>\n",
       "      <td>https://lenta.ru/news/2022/02/16/lyzhi/</td>\n",
       "      <td>Олимпиада: Спорт</td>\n",
       "      <td>Российские лыжницы завоевали бронзу в командно...</td>\n",
       "      <td>bolshunov-aleksandr:chervotkin-aleksey:stepano...</td>\n",
       "      <td>[российские, лыжницы, завоевали, бронзу, коман...</td>\n",
       "    </tr>\n",
       "    <tr>\n",
       "      <th>3975</th>\n",
       "      <td>https://lenta.ru/news/2022/02/16/granddad/</td>\n",
       "      <td>Олимпиада: Спорт</td>\n",
       "      <td>Дедушка Валиевой подтвердил употребление триме...</td>\n",
       "      <td>osvald-denis:valieva-kamila</td>\n",
       "      <td>[дедушка, российской, фигуристки, камилы, вали...</td>\n",
       "    </tr>\n",
       "    <tr>\n",
       "      <th>3976</th>\n",
       "      <td>https://lenta.ru/news/2022/02/16/biathlon/</td>\n",
       "      <td>Олимпиада: Спорт</td>\n",
       "      <td>Российские биатлонистки завоевали серебро в эс...</td>\n",
       "      <td>loginov-aleksandr:kazakevich-irina:reztsova-kr...</td>\n",
       "      <td>[российские, биатлонистки, завоевали, серебро,...</td>\n",
       "    </tr>\n",
       "  </tbody>\n",
       "</table>\n",
       "<p>3977 rows × 5 columns</p>\n",
       "</div>"
      ],
      "text/plain": [
       "                                               link          category  \\\n",
       "0      https://lenta.ru/news/2023/01/17/russkiimir/     Политика: Мир   \n",
       "1             https://lenta.ru/news/2023/01/17/frg/     Политика: Мир   \n",
       "2        https://lenta.ru/news/2023/01/17/miliardi/     Политика: Мир   \n",
       "3      https://lenta.ru/news/2023/01/17/netherland/     Политика: Мир   \n",
       "4     https://lenta.ru/news/2023/01/17/pistoriusss/     Политика: Мир   \n",
       "...                                             ...               ...   \n",
       "3972      https://lenta.ru/news/2022/02/16/lyzhnya/  Олимпиада: Спорт   \n",
       "3973      https://lenta.ru/news/2022/02/16/fetisov/  Олимпиада: Спорт   \n",
       "3974        https://lenta.ru/news/2022/02/16/lyzhi/  Олимпиада: Спорт   \n",
       "3975     https://lenta.ru/news/2022/02/16/granddad/  Олимпиада: Спорт   \n",
       "3976     https://lenta.ru/news/2022/02/16/biathlon/  Олимпиада: Спорт   \n",
       "\n",
       "                                                  title  \\\n",
       "0     Президент Польши выразил протест идее русского...   \n",
       "1     Шольц высказался о последствиях энергетическог...   \n",
       "2                ЕС выделил Украине первый транш помощи   \n",
       "3     Еще одна страна ЕС рассмотрит вопрос передачи ...   \n",
       "4     В Германии признали участие в украинском конфл...   \n",
       "...                                                 ...   \n",
       "3972  Российские лыжники завоевали бронзу в командно...   \n",
       "3973  Фетисов оценил шансы сборной России по хоккею ...   \n",
       "3974  Российские лыжницы завоевали бронзу в командно...   \n",
       "3975  Дедушка Валиевой подтвердил употребление триме...   \n",
       "3976  Российские биатлонистки завоевали серебро в эс...   \n",
       "\n",
       "                                                   tags  \\\n",
       "0                            varshava:polsha:rf:ukraina   \n",
       "1                              berlin:germaniya:ukraina   \n",
       "2                                     ukraina:shvetsiya   \n",
       "3                               niderlandy:ssha:ukraina   \n",
       "4                                     germaniya:ukraina   \n",
       "...                                                 ...   \n",
       "3972  bolshunov-aleksandr:terentiev-aleksandr:niskan...   \n",
       "3973  shipachev-vadim:voynov-vyacheslav:fetisov-vyac...   \n",
       "3974  bolshunov-aleksandr:chervotkin-aleksey:stepano...   \n",
       "3975                        osvald-denis:valieva-kamila   \n",
       "3976  loginov-aleksandr:kazakevich-irina:reztsova-kr...   \n",
       "\n",
       "                                                   text  \n",
       "0     [президент, польши, анджей, дуда, выразил, про...  \n",
       "1     [канцлер, германии, олаф, шольц, заявил, эконо...  \n",
       "2     [европейский, союз, ес, выделил, украине, перв...  \n",
       "3     [правительство, одной, страны, ес, нидерландов...  \n",
       "4     [германия, участвует, конфликте, украине, непр...  \n",
       "...                                                 ...  \n",
       "3972  [российские, лыжники, завоевали, бронзу, коман...  \n",
       "3973  [двукратный, олимпийский, чемпион, хоккею, вяч...  \n",
       "3974  [российские, лыжницы, завоевали, бронзу, коман...  \n",
       "3975  [дедушка, российской, фигуристки, камилы, вали...  \n",
       "3976  [российские, биатлонистки, завоевали, серебро,...  \n",
       "\n",
       "[3977 rows x 5 columns]"
      ]
     },
     "execution_count": 45,
     "metadata": {},
     "output_type": "execute_result"
    }
   ],
   "source": [
    "df"
   ]
  },
  {
   "cell_type": "code",
   "execution_count": 46,
   "metadata": {},
   "outputs": [
    {
     "data": {
      "text/plain": [
       "3977"
      ]
     },
     "execution_count": 46,
     "metadata": {},
     "output_type": "execute_result"
    }
   ],
   "source": [
    "corpus_tokens = []\n",
    "morph = pymorphy2.MorphAnalyzer()\n",
    "for i in range(len(df)):\n",
    "    tokens = []\n",
    "    for j in range(len(df['text'][i])):\n",
    "        if morph.word_is_known(df['text'][i][j]):\n",
    "            tokens.append(df['text'][i][j])\n",
    "    if len(tokens) > 0:\n",
    "        corpus_tokens.append(tokens)\n",
    "len(corpus_tokens)"
   ]
  },
  {
   "cell_type": "code",
   "execution_count": 47,
   "metadata": {},
   "outputs": [],
   "source": [
    "fin_corpus = []\n",
    "stemmer = RussianStemmer()\n",
    "for i, tokens in enumerate(corpus_tokens):\n",
    "    changes = [stemmer.stem(word) for word in tokens]\n",
    "    fin_corpus.append(changes)\n",
    "fin_corpus = np.asarray(fin_corpus)"
   ]
  },
  {
   "cell_type": "code",
   "execution_count": 48,
   "metadata": {},
   "outputs": [
    {
     "name": "stdout",
     "output_type": "stream",
     "text": [
      "33\n"
     ]
    }
   ],
   "source": [
    "mas_tokens = np.asarray([len(tokens) for tokens in fin_corpus])\n",
    "print(mas_tokens.min())"
   ]
  },
  {
   "cell_type": "code",
   "execution_count": 49,
   "metadata": {},
   "outputs": [
    {
     "data": {
      "image/png": "[encoded data removed]",
      "text/plain": [
       "<Figure size 1440x720 with 1 Axes>"
      ]
     },
     "metadata": {
      "needs_background": "light"
     },
     "output_type": "display_data"
    }
   ],
   "source": [
    "plt.figure(figsize=(20, 10))\n",
    "plt.hist(mas_tokens, bins=200)\n",
    "plt.grid(True)"
   ]
  },
  {
   "cell_type": "code",
   "execution_count": 40,
   "metadata": {},
   "outputs": [
    {
     "name": "stdout",
     "output_type": "stream",
     "text": [
      "202\n"
     ]
    }
   ],
   "source": [
    "vocab = np.unique(np.concatenate(fin_corpus).flatten()).tolist()\n",
    "print(len(vocab))"
   ]
  },
  {
   "cell_type": "code",
   "execution_count": 10,
   "metadata": {},
   "outputs": [],
   "source": [
    "data = []\n",
    "for i in range(len(fin_corpus)):\n",
    "    data.append([' '.join(fin_corpus[i]), df[\"category\"][i]])\n",
    "data = pd.DataFrame(data, columns=[\"text\", \"category\"])"
   ]
  },
  {
   "cell_type": "code",
   "execution_count": 11,
   "metadata": {},
   "outputs": [
    {
     "data": {
      "text/html": [
       "<div>\n",
       "<style scoped>\n",
       "    .dataframe tbody tr th:only-of-type {\n",
       "        vertical-align: middle;\n",
       "    }\n",
       "\n",
       "    .dataframe tbody tr th {\n",
       "        vertical-align: top;\n",
       "    }\n",
       "\n",
       "    .dataframe thead th {\n",
       "        text-align: right;\n",
       "    }\n",
       "</style>\n",
       "<table border=\"1\" class=\"dataframe\">\n",
       "  <thead>\n",
       "    <tr style=\"text-align: right;\">\n",
       "      <th></th>\n",
       "      <th>text</th>\n",
       "      <th>category</th>\n",
       "    </tr>\n",
       "  </thead>\n",
       "  <tbody>\n",
       "    <tr>\n",
       "      <th>0</th>\n",
       "      <td>президент польш андж дуд выраз протест русск м...</td>\n",
       "      <td>Политика: Мир</td>\n",
       "    </tr>\n",
       "    <tr>\n",
       "      <th>1</th>\n",
       "      <td>канцлер герман заяв экономик стран сможет пере...</td>\n",
       "      <td>Политика: Мир</td>\n",
       "    </tr>\n",
       "    <tr>\n",
       "      <th>2</th>\n",
       "      <td>европейск союз ес выдел украин перв транш помо...</td>\n",
       "      <td>Политика: Мир</td>\n",
       "    </tr>\n",
       "    <tr>\n",
       "      <th>3</th>\n",
       "      <td>правительств одн стран ес нидерланд рассматрив...</td>\n",
       "      <td>Политика: Мир</td>\n",
       "    </tr>\n",
       "    <tr>\n",
       "      <th>4</th>\n",
       "      <td>герман участв конфликт украин непрям образ при...</td>\n",
       "      <td>Политика: Мир</td>\n",
       "    </tr>\n",
       "    <tr>\n",
       "      <th>...</th>\n",
       "      <td>...</td>\n",
       "      <td>...</td>\n",
       "    </tr>\n",
       "    <tr>\n",
       "      <th>3972</th>\n",
       "      <td>российск лыжник завоева бронз командн спринт о...</td>\n",
       "      <td>Олимпиада: Спорт</td>\n",
       "    </tr>\n",
       "    <tr>\n",
       "      <th>3973</th>\n",
       "      <td>двукратн олимпийск чемпион хокк вячесла фетис ...</td>\n",
       "      <td>Олимпиада: Спорт</td>\n",
       "    </tr>\n",
       "    <tr>\n",
       "      <th>3974</th>\n",
       "      <td>российск лыжниц завоева бронз командн спринт о...</td>\n",
       "      <td>Олимпиада: Спорт</td>\n",
       "    </tr>\n",
       "    <tr>\n",
       "      <th>3975</th>\n",
       "      <td>дедушк российск фигуристк камил валиев подтвер...</td>\n",
       "      <td>Олимпиада: Спорт</td>\n",
       "    </tr>\n",
       "    <tr>\n",
       "      <th>3976</th>\n",
       "      <td>российск биатлонистк завоева серебр эстафет ол...</td>\n",
       "      <td>Олимпиада: Спорт</td>\n",
       "    </tr>\n",
       "  </tbody>\n",
       "</table>\n",
       "<p>3977 rows × 2 columns</p>\n",
       "</div>"
      ],
      "text/plain": [
       "                                                   text          category\n",
       "0     президент польш андж дуд выраз протест русск м...     Политика: Мир\n",
       "1     канцлер герман заяв экономик стран сможет пере...     Политика: Мир\n",
       "2     европейск союз ес выдел украин перв транш помо...     Политика: Мир\n",
       "3     правительств одн стран ес нидерланд рассматрив...     Политика: Мир\n",
       "4     герман участв конфликт украин непрям образ при...     Политика: Мир\n",
       "...                                                 ...               ...\n",
       "3972  российск лыжник завоева бронз командн спринт о...  Олимпиада: Спорт\n",
       "3973  двукратн олимпийск чемпион хокк вячесла фетис ...  Олимпиада: Спорт\n",
       "3974  российск лыжниц завоева бронз командн спринт о...  Олимпиада: Спорт\n",
       "3975  дедушк российск фигуристк камил валиев подтвер...  Олимпиада: Спорт\n",
       "3976  российск биатлонистк завоева серебр эстафет ол...  Олимпиада: Спорт\n",
       "\n",
       "[3977 rows x 2 columns]"
      ]
     },
     "execution_count": 11,
     "metadata": {},
     "output_type": "execute_result"
    }
   ],
   "source": [
    "data"
   ]
  },
  {
   "cell_type": "code",
   "execution_count": 12,
   "metadata": {},
   "outputs": [
    {
     "name": "stdout",
     "output_type": "stream",
     "text": [
      "3181 796\n"
     ]
    }
   ],
   "source": [
    "data_train, data_test = train_test_split(data, test_size=0.2)\n",
    "print(len(data_train), len(data_test))"
   ]
  },
  {
   "cell_type": "code",
   "execution_count": 14,
   "metadata": {},
   "outputs": [
    {
     "data": {
      "text/plain": [
       "Политика: Мир                345\n",
       "Рынки: Экономика             180\n",
       "Госэкономика: Экономика      179\n",
       "Кино: Культура               176\n",
       "Бокс и ММА: Спорт            175\n",
       "Авто: Спорт                  167\n",
       "Музыка: Культура             166\n",
       "Зимние виды: Спорт           163\n",
       "Бизнес: Экономика            162\n",
       "Искусство: Культура          157\n",
       "Олимпиада: Спорт             156\n",
       "Капитал: Экономика           156\n",
       "Футбол: Спорт                154\n",
       "Общество: Мир                136\n",
       "Сериалы: Культура            133\n",
       "Деловой климат: Экономика    133\n",
       "Происшествия: Мир            128\n",
       "Преступность: Мир            125\n",
       "Книги: Культура              115\n",
       "Конфликты: Мир                64\n",
       "Театр: Культура                5\n",
       "Летние виды: Спорт             5\n",
       "Архитектура: Культура          1\n",
       "Name: category, dtype: int64"
      ]
     },
     "execution_count": 14,
     "metadata": {},
     "output_type": "execute_result"
    }
   ],
   "source": [
    "data_train.category.value_counts()"
   ]
  },
  {
   "cell_type": "code",
   "execution_count": 15,
   "metadata": {},
   "outputs": [
    {
     "data": {
      "text/plain": [
       "TfidfVectorizer(vocabulary=['1-м', '10-е', '10-й', '10-м', '100-м', '11-го',\n",
       "                            '11-е', '11-й', '11-м', '11-ю', '12-го', '12-е',\n",
       "                            '12-й', '12-ю', '13-го', '13-е', '13-й', '13-м',\n",
       "                            '13-ю', '14-го', '14-е', '14-й', '14-м', '15-е',\n",
       "                            '15-й', '15-м', '16-го', '16-е', '16-й', '16-м', ...])"
      ]
     },
     "execution_count": 15,
     "metadata": {},
     "output_type": "execute_result"
    }
   ],
   "source": [
    "vectorizer = TfidfVectorizer(vocabulary=vocab)\n",
    "vectorizer.fit(data[\"text\"])"
   ]
  },
  {
   "cell_type": "code",
   "execution_count": 16,
   "metadata": {},
   "outputs": [],
   "source": [
    "data_train_vect = vectorizer.transform(data_train[\"text\"])\n",
    "data_train_cat = data_train[\"category\"]\n",
    "data_test_vect = vectorizer.transform(data_test[\"text\"])\n",
    "data_test_cat = data_test[\"category\"]"
   ]
  },
  {
   "cell_type": "markdown",
   "metadata": {},
   "source": [
    "KNN (K-Nearest Neighbors — K Ближайших Соседей)"
   ]
  },
  {
   "cell_type": "code",
   "execution_count": 17,
   "metadata": {},
   "outputs": [
    {
     "name": "stdout",
     "output_type": "stream",
     "text": [
      "Fitting 3 folds for each of 16 candidates, totalling 48 fits\n"
     ]
    },
    {
     "name": "stderr",
     "output_type": "stream",
     "text": [
      "C:\\Users\\user\\anaconda3\\lib\\site-packages\\sklearn\\model_selection\\_split.py:670: UserWarning: The least populated class in y has only 1 members, which is less than n_splits=3.\n",
      "  warnings.warn((\"The least populated class in y has only %d\"\n",
      "[Parallel(n_jobs=-1)]: Using backend LokyBackend with 8 concurrent workers.\n",
      "[Parallel(n_jobs=-1)]: Done  48 out of  48 | elapsed:   13.6s finished\n"
     ]
    },
    {
     "name": "stdout",
     "output_type": "stream",
     "text": [
      "                           precision    recall  f1-score   support\n",
      "\n",
      "              Авто: Спорт       0.98      1.00      0.99        42\n",
      "        Бизнес: Экономика       0.62      0.44      0.51        41\n",
      "        Бокс и ММА: Спорт       0.96      0.93      0.95        29\n",
      "  Госэкономика: Экономика       0.64      0.37      0.47        43\n",
      "Деловой климат: Экономика       0.44      0.47      0.46        17\n",
      "       Зимние виды: Спорт       0.97      0.80      0.88        46\n",
      "      Искусство: Культура       0.93      0.95      0.94        39\n",
      "       Капитал: Экономика       0.68      0.84      0.75        50\n",
      "           Кино: Культура       0.80      0.71      0.75        51\n",
      "          Книги: Культура       0.80      0.69      0.74        29\n",
      "           Конфликты: Мир       0.67      0.40      0.50        10\n",
      "         Музыка: Культура       0.83      0.83      0.83        42\n",
      "            Общество: Мир       0.67      0.28      0.39        36\n",
      "         Олимпиада: Спорт       0.90      0.95      0.93        40\n",
      "            Политика: Мир       0.74      0.88      0.80       113\n",
      "        Преступность: Мир       0.59      0.77      0.67        30\n",
      "        Происшествия: Мир       0.71      0.60      0.65        40\n",
      "         Рынки: Экономика       0.40      0.72      0.52        29\n",
      "        Сериалы: Культура       0.69      0.83      0.75        35\n",
      "          Театр: Культура       0.00      0.00      0.00         1\n",
      "            Футбол: Спорт       0.87      1.00      0.93        33\n",
      "\n",
      "                 accuracy                           0.75       796\n",
      "                macro avg       0.71      0.69      0.69       796\n",
      "             weighted avg       0.76      0.75      0.74       796\n",
      "\n"
     ]
    },
    {
     "name": "stderr",
     "output_type": "stream",
     "text": [
      "C:\\Users\\user\\anaconda3\\lib\\site-packages\\sklearn\\metrics\\_classification.py:1221: UndefinedMetricWarning: Precision and F-score are ill-defined and being set to 0.0 in labels with no predicted samples. Use `zero_division` parameter to control this behavior.\n",
      "  _warn_prf(average, modifier, msg_start, len(result))\n"
     ]
    }
   ],
   "source": [
    "parameters_knn = { # параметры для KNN модели\n",
    "    \"n_neighbors\": [3, 5, 10, 15],\n",
    "    \"weights\": [\"uniform\", \"distance\"],\n",
    "    \"metric\": [\"minkowski\", \"manhattan\"]\n",
    "}\n",
    "\n",
    "gs_knn = GridSearchCV( # параметры GridSearchCV\n",
    "    KNeighborsClassifier(),\n",
    "    parameters_knn,\n",
    "    verbose = 1,\n",
    "    cv=3,\n",
    "    n_jobs=-1\n",
    ")\n",
    "\n",
    "gs_knn_res = gs_knn.fit(data_train_vect, data_train_cat) # подбираем лучшие параметры для оценщика\n",
    "pred_knn = gs_knn_res.best_estimator_.predict(data_test_vect) # предсказываем\n",
    "print(metrics.classification_report(data_test_cat, pred_knn)) # выписываем основные метрики"
   ]
  },
  {
   "cell_type": "markdown",
   "metadata": {},
   "source": [
    "SGD (Stochastic Gradient Descent — Стохастический Градиентный Спуск)"
   ]
  },
  {
   "cell_type": "code",
   "execution_count": 18,
   "metadata": {},
   "outputs": [
    {
     "name": "stdout",
     "output_type": "stream",
     "text": [
      "Fitting 3 folds for each of 432 candidates, totalling 1296 fits\n"
     ]
    },
    {
     "name": "stderr",
     "output_type": "stream",
     "text": [
      "C:\\Users\\user\\anaconda3\\lib\\site-packages\\sklearn\\model_selection\\_split.py:670: UserWarning: The least populated class in y has only 1 members, which is less than n_splits=3.\n",
      "  warnings.warn((\"The least populated class in y has only %d\"\n",
      "[Parallel(n_jobs=-1)]: Using backend LokyBackend with 8 concurrent workers.\n",
      "[Parallel(n_jobs=-1)]: Done  34 tasks      | elapsed:    3.3s\n",
      "[Parallel(n_jobs=-1)]: Done 184 tasks      | elapsed:   38.0s\n",
      "[Parallel(n_jobs=-1)]: Done 434 tasks      | elapsed:  1.5min\n",
      "[Parallel(n_jobs=-1)]: Done 784 tasks      | elapsed:  3.1min\n",
      "[Parallel(n_jobs=-1)]: Done 1234 tasks      | elapsed:  5.0min\n",
      "[Parallel(n_jobs=-1)]: Done 1296 out of 1296 | elapsed:  5.6min finished\n"
     ]
    },
    {
     "name": "stdout",
     "output_type": "stream",
     "text": [
      "                           precision    recall  f1-score   support\n",
      "\n",
      "              Авто: Спорт       0.91      1.00      0.95        42\n",
      "        Бизнес: Экономика       0.66      0.46      0.54        41\n",
      "        Бокс и ММА: Спорт       0.88      1.00      0.94        29\n",
      "  Госэкономика: Экономика       0.71      0.40      0.51        43\n",
      "Деловой климат: Экономика       0.44      0.71      0.55        17\n",
      "       Зимние виды: Спорт       1.00      0.83      0.90        46\n",
      "      Искусство: Культура       0.88      0.97      0.93        39\n",
      "       Капитал: Экономика       0.83      0.86      0.84        50\n",
      "           Кино: Культура       0.75      0.78      0.77        51\n",
      "          Книги: Культура       0.85      0.79      0.82        29\n",
      "           Конфликты: Мир       1.00      0.40      0.57        10\n",
      "         Музыка: Культура       0.86      0.86      0.86        42\n",
      "            Общество: Мир       0.67      0.33      0.44        36\n",
      "         Олимпиада: Спорт       0.91      0.97      0.94        40\n",
      "            Политика: Мир       0.72      0.88      0.80       113\n",
      "        Преступность: Мир       0.72      0.60      0.65        30\n",
      "        Происшествия: Мир       0.63      0.65      0.64        40\n",
      "         Рынки: Экономика       0.53      0.72      0.61        29\n",
      "        Сериалы: Культура       0.76      0.74      0.75        35\n",
      "          Театр: Культура       0.00      0.00      0.00         1\n",
      "            Футбол: Спорт       0.85      1.00      0.92        33\n",
      "\n",
      "                 accuracy                           0.77       796\n",
      "                macro avg       0.74      0.71      0.71       796\n",
      "             weighted avg       0.78      0.77      0.76       796\n",
      "\n"
     ]
    },
    {
     "name": "stderr",
     "output_type": "stream",
     "text": [
      "C:\\Users\\user\\anaconda3\\lib\\site-packages\\sklearn\\metrics\\_classification.py:1221: UndefinedMetricWarning: Precision and F-score are ill-defined and being set to 0.0 in labels with no predicted samples. Use `zero_division` parameter to control this behavior.\n",
      "  _warn_prf(average, modifier, msg_start, len(result))\n"
     ]
    }
   ],
   "source": [
    "parameters_sgd = {\n",
    "    \"penalty\": [\"elasticnet\", \"l2\", \"l1\"],\n",
    "    \"alpha\": [0.0001, 0.01, 0.1, 0.5, 1, 5],\n",
    "    \"max_iter\": [100, 500, 1000, 2000],\n",
    "    \"learning_rate\": [\"optimal\", \"invscaling\", \"adaptive\"],\n",
    "    \"eta0\": [1, 10]\n",
    "}\n",
    "\n",
    "gs_sgd = GridSearchCV(\n",
    "    SGDClassifier(),\n",
    "    parameters_sgd,\n",
    "    verbose = 1,\n",
    "    cv=3,\n",
    "    n_jobs=-1\n",
    ")\n",
    "\n",
    "gs_sgd_res = gs_sgd.fit(data_train_vect, data_train_cat)\n",
    "pred_sgd = gs_sgd_res.best_estimator_.predict(data_test_vect)\n",
    "print(metrics.classification_report(data_test_cat, pred_sgd))"
   ]
  },
  {
   "cell_type": "markdown",
   "metadata": {},
   "source": [
    "Логистическая регрессия"
   ]
  },
  {
   "cell_type": "code",
   "execution_count": 19,
   "metadata": {},
   "outputs": [
    {
     "name": "stdout",
     "output_type": "stream",
     "text": [
      "Fitting 3 folds for each of 40 candidates, totalling 120 fits\n"
     ]
    },
    {
     "name": "stderr",
     "output_type": "stream",
     "text": [
      "C:\\Users\\user\\anaconda3\\lib\\site-packages\\sklearn\\model_selection\\_split.py:670: UserWarning: The least populated class in y has only 1 members, which is less than n_splits=3.\n",
      "  warnings.warn((\"The least populated class in y has only %d\"\n",
      "[Parallel(n_jobs=-1)]: Using backend LokyBackend with 8 concurrent workers.\n",
      "[Parallel(n_jobs=-1)]: Done  50 tasks      | elapsed:   46.7s\n",
      "[Parallel(n_jobs=-1)]: Done 120 out of 120 | elapsed: 19.6min finished\n"
     ]
    },
    {
     "name": "stdout",
     "output_type": "stream",
     "text": [
      "                           precision    recall  f1-score   support\n",
      "\n",
      "              Авто: Спорт       0.95      1.00      0.98        42\n",
      "        Бизнес: Экономика       0.59      0.54      0.56        41\n",
      "        Бокс и ММА: Спорт       0.97      0.97      0.97        29\n",
      "  Госэкономика: Экономика       0.69      0.56      0.62        43\n",
      "Деловой климат: Экономика       0.48      0.76      0.59        17\n",
      "       Зимние виды: Спорт       1.00      0.87      0.93        46\n",
      "      Искусство: Культура       0.95      0.97      0.96        39\n",
      "       Капитал: Экономика       0.86      0.86      0.86        50\n",
      "           Кино: Культура       0.73      0.78      0.75        51\n",
      "          Книги: Культура       0.83      0.69      0.75        29\n",
      "           Конфликты: Мир       0.56      0.50      0.53        10\n",
      "         Музыка: Культура       0.88      0.90      0.89        42\n",
      "            Общество: Мир       0.61      0.39      0.47        36\n",
      "         Олимпиада: Спорт       0.95      0.95      0.95        40\n",
      "            Политика: Мир       0.75      0.84      0.79       113\n",
      "        Преступность: Мир       0.59      0.63      0.61        30\n",
      "        Происшествия: Мир       0.60      0.60      0.60        40\n",
      "         Рынки: Экономика       0.59      0.69      0.63        29\n",
      "        Сериалы: Культура       0.81      0.71      0.76        35\n",
      "          Театр: Культура       0.00      0.00      0.00         1\n",
      "            Футбол: Спорт       0.89      1.00      0.94        33\n",
      "\n",
      "                 accuracy                           0.78       796\n",
      "                macro avg       0.73      0.72      0.72       796\n",
      "             weighted avg       0.78      0.78      0.78       796\n",
      "\n"
     ]
    },
    {
     "name": "stderr",
     "output_type": "stream",
     "text": [
      "C:\\Users\\user\\anaconda3\\lib\\site-packages\\sklearn\\metrics\\_classification.py:1221: UndefinedMetricWarning: Precision and F-score are ill-defined and being set to 0.0 in labels with no predicted samples. Use `zero_division` parameter to control this behavior.\n",
      "  _warn_prf(average, modifier, msg_start, len(result))\n"
     ]
    }
   ],
   "source": [
    "parameters_log = {\n",
    "    \"penalty\": [\"l2\", \"l1\"],\n",
    "    \"C\": np.logspace(-4, 4, 10),\n",
    "    \"solver\": [\"saga\"],\n",
    "    \"max_iter\": [500, 1000]\n",
    "}\n",
    "\n",
    "gs_log = GridSearchCV(\n",
    "    LogisticRegression(),\n",
    "    parameters_log,\n",
    "    verbose = 1,\n",
    "    cv=3,\n",
    "    n_jobs=-1\n",
    ")\n",
    "\n",
    "gs_log_res = gs_log.fit(data_train_vect, data_train_cat)\n",
    "pred_log = gs_log_res.best_estimator_.predict(data_test_vect)\n",
    "print(metrics.classification_report(data_test_cat, pred_log))"
   ]
  },
  {
   "cell_type": "markdown",
   "metadata": {},
   "source": [
    "Случайный лес (Random Forest Classifier)"
   ]
  },
  {
   "cell_type": "code",
   "execution_count": 20,
   "metadata": {},
   "outputs": [
    {
     "name": "stdout",
     "output_type": "stream",
     "text": [
      "Fitting 3 folds for each of 240 candidates, totalling 720 fits\n"
     ]
    },
    {
     "name": "stderr",
     "output_type": "stream",
     "text": [
      "C:\\Users\\user\\anaconda3\\lib\\site-packages\\sklearn\\model_selection\\_split.py:670: UserWarning: The least populated class in y has only 1 members, which is less than n_splits=3.\n",
      "  warnings.warn((\"The least populated class in y has only %d\"\n",
      "[Parallel(n_jobs=-1)]: Using backend LokyBackend with 8 concurrent workers.\n",
      "[Parallel(n_jobs=-1)]: Done  34 tasks      | elapsed:  5.0min\n",
      "[Parallel(n_jobs=-1)]: Done 184 tasks      | elapsed: 21.2min\n",
      "[Parallel(n_jobs=-1)]: Done 434 tasks      | elapsed: 87.3min\n",
      "[Parallel(n_jobs=-1)]: Done 720 out of 720 | elapsed: 188.2min finished\n"
     ]
    },
    {
     "name": "stdout",
     "output_type": "stream",
     "text": [
      "                           precision    recall  f1-score   support\n",
      "\n",
      "              Авто: Спорт       0.95      0.98      0.96        42\n",
      "        Бизнес: Экономика       0.71      0.49      0.58        41\n",
      "        Бокс и ММА: Спорт       0.97      1.00      0.98        29\n",
      "  Госэкономика: Экономика       0.70      0.37      0.48        43\n",
      "Деловой климат: Экономика       0.60      0.71      0.65        17\n",
      "       Зимние виды: Спорт       1.00      0.89      0.94        46\n",
      "      Искусство: Культура       0.87      0.87      0.87        39\n",
      "       Капитал: Экономика       0.74      0.78      0.76        50\n",
      "           Кино: Культура       0.80      0.78      0.79        51\n",
      "          Книги: Культура       0.85      0.76      0.80        29\n",
      "           Конфликты: Мир       1.00      0.30      0.46        10\n",
      "         Музыка: Культура       0.84      0.86      0.85        42\n",
      "            Общество: Мир       0.69      0.25      0.37        36\n",
      "         Олимпиада: Спорт       0.95      0.97      0.96        40\n",
      "            Политика: Мир       0.63      0.91      0.74       113\n",
      "        Преступность: Мир       0.64      0.47      0.54        30\n",
      "        Происшествия: Мир       0.68      0.62      0.65        40\n",
      "         Рынки: Экономика       0.48      0.79      0.60        29\n",
      "        Сериалы: Культура       0.80      0.80      0.80        35\n",
      "          Театр: Культура       0.00      0.00      0.00         1\n",
      "            Футбол: Спорт       0.89      1.00      0.94        33\n",
      "\n",
      "                 accuracy                           0.76       796\n",
      "                macro avg       0.75      0.70      0.70       796\n",
      "             weighted avg       0.77      0.76      0.75       796\n",
      "\n"
     ]
    },
    {
     "name": "stderr",
     "output_type": "stream",
     "text": [
      "C:\\Users\\user\\anaconda3\\lib\\site-packages\\sklearn\\metrics\\_classification.py:1221: UndefinedMetricWarning: Precision and F-score are ill-defined and being set to 0.0 in labels with no predicted samples. Use `zero_division` parameter to control this behavior.\n",
      "  _warn_prf(average, modifier, msg_start, len(result))\n"
     ]
    }
   ],
   "source": [
    "parameters_forest = {\n",
    "    \"n_estimators\": [5, 10, 25, 100, 1000],\n",
    "    \"criterion\": [\"gini\", \"entropy\"],\n",
    "    \"max_depth\": [None, 5, 25, 100],\n",
    "    \"min_samples_split\": [2, 5, 10],\n",
    "    \"max_features\": [None, \"sqrt\"]\n",
    "}\n",
    "\n",
    "gs_forest = GridSearchCV(\n",
    "    RandomForestClassifier(),\n",
    "    parameters_forest,\n",
    "    verbose = 1,\n",
    "    cv=3,\n",
    "    n_jobs=-1\n",
    ")\n",
    "\n",
    "gs_forest_res = gs_forest.fit(data_train_vect, data_train_cat)\n",
    "pred_forest = gs_forest_res.best_estimator_.predict(data_test_vect)\n",
    "print(metrics.classification_report(data_test_cat, pred_forest))"
   ]
  },
  {
   "cell_type": "markdown",
   "metadata": {},
   "source": [
    "Наивный байесовский классификатор (Naive Bayes classifier)"
   ]
  },
  {
   "cell_type": "code",
   "execution_count": 21,
   "metadata": {},
   "outputs": [
    {
     "name": "stdout",
     "output_type": "stream",
     "text": [
      "Fitting 3 folds for each of 5 candidates, totalling 15 fits\n"
     ]
    },
    {
     "name": "stderr",
     "output_type": "stream",
     "text": [
      "C:\\Users\\user\\anaconda3\\lib\\site-packages\\sklearn\\model_selection\\_split.py:670: UserWarning: The least populated class in y has only 1 members, which is less than n_splits=3.\n",
      "  warnings.warn((\"The least populated class in y has only %d\"\n",
      "[Parallel(n_jobs=-1)]: Using backend LokyBackend with 8 concurrent workers.\n"
     ]
    },
    {
     "name": "stdout",
     "output_type": "stream",
     "text": [
      "                           precision    recall  f1-score   support\n",
      "\n",
      "              Авто: Спорт       1.00      0.98      0.99        42\n",
      "        Бизнес: Экономика       0.67      0.49      0.56        41\n",
      "        Бокс и ММА: Спорт       0.97      0.97      0.97        29\n",
      "  Госэкономика: Экономика       0.64      0.63      0.64        43\n",
      "Деловой климат: Экономика       0.50      0.76      0.60        17\n",
      "       Зимние виды: Спорт       0.98      0.91      0.94        46\n",
      "      Искусство: Культура       0.93      0.95      0.94        39\n",
      "       Капитал: Экономика       0.76      0.78      0.77        50\n",
      "           Кино: Культура       0.74      0.69      0.71        51\n",
      "          Книги: Культура       0.88      0.76      0.81        29\n",
      "           Конфликты: Мир       0.71      0.50      0.59        10\n",
      "         Музыка: Культура       0.82      0.88      0.85        42\n",
      "            Общество: Мир       0.70      0.39      0.50        36\n",
      "         Олимпиада: Спорт       0.95      0.93      0.94        40\n",
      "            Политика: Мир       0.79      0.84      0.81       113\n",
      "        Преступность: Мир       0.47      0.63      0.54        30\n",
      "        Происшествия: Мир       0.62      0.65      0.63        40\n",
      "         Рынки: Экономика       0.54      0.66      0.59        29\n",
      "        Сериалы: Культура       0.64      0.66      0.65        35\n",
      "          Театр: Культура       0.00      0.00      0.00         1\n",
      "            Футбол: Спорт       0.89      1.00      0.94        33\n",
      "\n",
      "                 accuracy                           0.77       796\n",
      "                macro avg       0.72      0.72      0.71       796\n",
      "             weighted avg       0.77      0.77      0.77       796\n",
      "\n"
     ]
    },
    {
     "name": "stderr",
     "output_type": "stream",
     "text": [
      "[Parallel(n_jobs=-1)]: Done  15 out of  15 | elapsed:    2.4s finished\n",
      "C:\\Users\\user\\anaconda3\\lib\\site-packages\\sklearn\\metrics\\_classification.py:1221: UndefinedMetricWarning: Precision and F-score are ill-defined and being set to 0.0 in labels with no predicted samples. Use `zero_division` parameter to control this behavior.\n",
      "  _warn_prf(average, modifier, msg_start, len(result))\n"
     ]
    }
   ],
   "source": [
    "parameters_nb = {\n",
    "    \"alpha\": [0.00001, 0.0001, 0.01, 0.1, 1] \n",
    "}\n",
    "\n",
    "gs_nb = GridSearchCV(\n",
    "    MultinomialNB(),\n",
    "    parameters_nb,\n",
    "    verbose = 1,\n",
    "    cv=3,\n",
    "    n_jobs=-1\n",
    ")\n",
    "\n",
    "gs_nb_res = gs_nb.fit(data_train_vect, data_train_cat)\n",
    "pred_nb = gs_nb_res.best_estimator_.predict(data_test_vect)\n",
    "print(metrics.classification_report(data_test_cat, pred_nb))"
   ]
  },
  {
   "cell_type": "markdown",
   "metadata": {},
   "source": [
    "SVC (C-Support Vector Classification — Метод Опорных Векторов)"
   ]
  },
  {
   "cell_type": "code",
   "execution_count": 22,
   "metadata": {},
   "outputs": [
    {
     "name": "stdout",
     "output_type": "stream",
     "text": [
      "Fitting 3 folds for each of 36 candidates, totalling 108 fits\n"
     ]
    },
    {
     "name": "stderr",
     "output_type": "stream",
     "text": [
      "C:\\Users\\user\\anaconda3\\lib\\site-packages\\sklearn\\model_selection\\_split.py:670: UserWarning: The least populated class in y has only 1 members, which is less than n_splits=3.\n",
      "  warnings.warn((\"The least populated class in y has only %d\"\n",
      "[Parallel(n_jobs=-1)]: Using backend LokyBackend with 8 concurrent workers.\n",
      "[Parallel(n_jobs=-1)]: Done  34 tasks      | elapsed:   52.2s\n",
      "[Parallel(n_jobs=-1)]: Done 108 out of 108 | elapsed:  2.5min finished\n"
     ]
    },
    {
     "name": "stdout",
     "output_type": "stream",
     "text": [
      "                           precision    recall  f1-score   support\n",
      "\n",
      "              Авто: Спорт       0.95      1.00      0.98        42\n",
      "        Бизнес: Экономика       0.62      0.51      0.56        41\n",
      "        Бокс и ММА: Спорт       0.97      0.97      0.97        29\n",
      "  Госэкономика: Экономика       0.68      0.53      0.60        43\n",
      "Деловой климат: Экономика       0.55      0.65      0.59        17\n",
      "       Зимние виды: Спорт       1.00      0.91      0.95        46\n",
      "      Искусство: Культура       0.91      1.00      0.95        39\n",
      "       Капитал: Экономика       0.80      0.86      0.83        50\n",
      "           Кино: Культура       0.74      0.82      0.78        51\n",
      "          Книги: Культура       0.88      0.72      0.79        29\n",
      "           Конфликты: Мир       0.71      0.50      0.59        10\n",
      "         Музыка: Культура       0.93      0.88      0.90        42\n",
      "            Общество: Мир       0.61      0.39      0.47        36\n",
      "         Олимпиада: Спорт       0.97      0.93      0.95        40\n",
      "            Политика: Мир       0.74      0.87      0.80       113\n",
      "        Преступность: Мир       0.60      0.70      0.65        30\n",
      "        Происшествия: Мир       0.64      0.57      0.61        40\n",
      "         Рынки: Экономика       0.58      0.76      0.66        29\n",
      "        Сериалы: Культура       0.83      0.69      0.75        35\n",
      "          Театр: Культура       0.00      0.00      0.00         1\n",
      "            Футбол: Спорт       0.92      1.00      0.96        33\n",
      "\n",
      "                 accuracy                           0.79       796\n",
      "                macro avg       0.74      0.73      0.73       796\n",
      "             weighted avg       0.79      0.79      0.78       796\n",
      "\n"
     ]
    },
    {
     "name": "stderr",
     "output_type": "stream",
     "text": [
      "C:\\Users\\user\\anaconda3\\lib\\site-packages\\sklearn\\metrics\\_classification.py:1221: UndefinedMetricWarning: Precision and F-score are ill-defined and being set to 0.0 in labels with no predicted samples. Use `zero_division` parameter to control this behavior.\n",
      "  _warn_prf(average, modifier, msg_start, len(result))\n"
     ]
    }
   ],
   "source": [
    "parameters_svc = {\n",
    "    \"C\":  [1, 10, 100, 1000],\n",
    "    \"gamma\": [0.001, 0.0001, \"scale\"],\n",
    "    \"kernel\": [\"rbf\", \"linear\", \"poly\"]\n",
    "}\n",
    "\n",
    "gs_svc = GridSearchCV(\n",
    "    SVC(),\n",
    "    parameters_svc,\n",
    "    verbose = 1,\n",
    "    cv=3,\n",
    "    n_jobs=-1\n",
    ")\n",
    "\n",
    "gs_svc_res = gs_svc.fit(data_train_vect, data_train_cat)\n",
    "pred_svc = gs_svc_res.best_estimator_.predict(data_test_vect)\n",
    "print(metrics.classification_report(data_test_cat, pred_svc))"
   ]
  },
  {
   "cell_type": "code",
   "execution_count": 50,
   "metadata": {},
   "outputs": [
    {
     "data": {
      "text/plain": [
       "count               796\n",
       "unique               21\n",
       "top       Политика: Мир\n",
       "freq                113\n",
       "Name: category, dtype: object"
      ]
     },
     "execution_count": 50,
     "metadata": {},
     "output_type": "execute_result"
    }
   ],
   "source": [
    "data_test['category'].describe()"
   ]
  },
  {
   "cell_type": "code",
   "execution_count": 51,
   "metadata": {},
   "outputs": [
    {
     "data": {
      "text/plain": [
       "Политика: Мир                113\n",
       "Кино: Культура                51\n",
       "Капитал: Экономика            50\n",
       "Зимние виды: Спорт            46\n",
       "Госэкономика: Экономика       43\n",
       "Авто: Спорт                   42\n",
       "Музыка: Культура              42\n",
       "Бизнес: Экономика             41\n",
       "Происшествия: Мир             40\n",
       "Олимпиада: Спорт              40\n",
       "Искусство: Культура           39\n",
       "Общество: Мир                 36\n",
       "Сериалы: Культура             35\n",
       "Футбол: Спорт                 33\n",
       "Преступность: Мир             30\n",
       "Книги: Культура               29\n",
       "Рынки: Экономика              29\n",
       "Бокс и ММА: Спорт             29\n",
       "Деловой климат: Экономика     17\n",
       "Конфликты: Мир                10\n",
       "Театр: Культура                1\n",
       "Name: category, dtype: int64"
      ]
     },
     "execution_count": 51,
     "metadata": {},
     "output_type": "execute_result"
    }
   ],
   "source": [
    "data_test[\"category\"].value_counts()"
   ]
  },
  {
   "cell_type": "code",
   "execution_count": 52,
   "metadata": {},
   "outputs": [
    {
     "data": {
      "text/plain": [
       "count                                                   796\n",
       "unique                                                  794\n",
       "top       вооружен сил эритр уб человек приграничн регио...\n",
       "freq                                                      2\n",
       "Name: text, dtype: object"
      ]
     },
     "execution_count": 52,
     "metadata": {},
     "output_type": "execute_result"
    }
   ],
   "source": [
    "data_test['text'].describe()"
   ]
  },
  {
   "cell_type": "code",
   "execution_count": 53,
   "metadata": {},
   "outputs": [
    {
     "data": {
      "text/plain": [
       "вооружен сил эритр уб человек приграничн регион эфиоп заяв глав всемирн организац здравоохранен воз пресс-конференц женев цитир американск газет слов явля уроженц сред убит ход нападен эфиопск деревн дяд глав воз сообщ рассматрива возможн отмен пресс-конференц тем нефтян живет сам опасн стран август росс реш закреп африк стран запад пыта помеша август разговарива матер очен опустош сам младш сем сказа добав надеет прекращен безум назва войн сил автономн регион одн сторон такж эфиоп эритре уточня ноябр правительств эфиоп руководств достигл соглашен прекращен боев действ однак договор распространя эритр отмеча ход вооружен конфликт воен преступлен имел мест ма переизбра глав всемирн организац здравоохранен втор срок занима должност год эт перв представител африканск регион воз возглав соответств правил организац переизбира должност гендиректор род эритр заня пост генсек воз советник премьер-министр эфиоп год год министр иностра дел год министр здравоохранен стран                                                                                                                                                                                                                                                                                                                                                                                                                                                                                                                                                                                                                                                                                                                                                                                                                                                                                                                                                                                                      2\n",
       "американск полиц расслед запута дел убийств четырех студент город москв штат пишет британск газет сообща ксан такж молод человек последн уч университет активн вел социальн сет регулярн устраива вечеринк однак четыр недел назад ноч воскресен дом спящ студент проник неизвестн зареза две соседк убит дила наход ту ноч спальн цокольн этаж проспа нападен оказа нетронут утр две выж студентк позва общ друз дом слов подума сосед прост сознан крепк спал утрен гост обнаруж труп позвон полиц незадолг тем мороз росс снял детективн триллер убива холод маньяк удивля сериа замерзш декабр прост уничтожа люд 1980-х дорог челябинск промышля жесток банд главар убива рад удовольств ноябр трудн сказа станет вообщ город прежн цитир газет офицер связ обществен полиц штат подчеркива американск провинциальн москв сем лет убийств расследован дел убийств четырех студент подключ отделен фбр штат жительниц сша штат пенсильван арестова убийств муж совершен лет назад                                                                                                                                                                                                                                                                                                                                                                                                                                                                                                                                                                                                                                                                                                                                                                                                                                                                                                                                                                                                                                2\n",
       "рекордн год обь потребительск кредитован зафиксирова декабр последн месяц год банк выда кредит люб цел миллиард рубл декабр россиян взял миллиард рекорд ежемесячн выдач установл ноябр эксперт связыва показател ноябр улучш параметр кредит выда бонус размер полтор процент ставк подписчик ставк перв месяц составля процент меньш месяц кред получ тысяч человек вернул миллион рубл итог год портфел потребительск кредит достиг триллион рубл числ заемщик состав миллион человек потребительск кредит сам популярн стран спрос стабильн высок том конц январ действ специальн услов кредитован ставк процент перв месяц полтор процент ставк бонус подписчик необходим заемн средств январ удачн месяц получ пода заявк кред рефинансирова друг кредит приложен сбербанк онлайн нескольк минут приход офис оформлен кредит погашен досрочн нужн отмет директор дивизион заня сберега сбербанк серг широк                                                                                                                                                                                                                                                                                                                                                                                                                                                                                                                                                                                                                                                                                                                                                                                                                                                                                                                                                                                                                                                                                                     1\n",
       "испанск фигуристк лаур выступа пар марк сдал положительн врем олимпийск игр год пекин сообща сайт международн агентств тестирован проб спортсменк феврал выявл запрещен препарат явля анаболическ стероид ближайш врем дел переда антидопингов отдел спортивн арбитражн суд фигуристк потребова вскрыт проб б игр пекин заня 11-е мест парн катан став перв испанск пар выступ вид соревнован олимпиад сезон такж стал девят чемпионат европ четверт положительн запрещен веществ нашл кров иранск горнолыжник хуссейн украинск лыжниц валентин каминск соотечественниц лид кром игр стал известн положительн допинг-проб российск фигуристк камил валиев декабр год                                                                                                                                                                                                                                                                                                                                                                                                                                                                                                                                                                                                                                                                                                                                                                                                                                                                                                                                                                                                                                                                                                                                                                                                                                                                                                                                                 1\n",
       "японск фигуристк ма заработа год россиянк отстран участ международн турнир сообща спортсменк явля лидер миров рейтинг фигуристок призов этап гран-пр заработа тысяч доллар тысяч две побед этап гран-пр тысяч побед финал турнир втор мест располож американк тысяч трет бельгийк лун декабр сообщ кам валиев стал сам богат фигуристк росс спортсменк одержа две побед этап гран-пр росс выигра личн заня втор мест командн турнир чемпионат стран прыжк так образ заработа миллион июн международн союз конькобежц конгресс организац приня решен продл отстранен российск спортсмен соревнован сво эгид отечествен фигурист запрет участвова международн сер гран-пр                                                                                                                                                                                                                                                                                                                                                                                                                                                                                                                                                                                                                                                                                                                                                                                                                                                                                                                                                                                                                                                                                                                                                                                                                                                                                                                                              1\n",
       "                                                                                                                                                                                                                                                                                                                                                                                                                                                                                                                                                                                                                                                                                                                                                                                                                                                                                                                                                                                                                                                                                                                                                                                                                                                                                                                                                                                                                                                                                                                                                                                                                                                                                                                                                                                                                                                                                                                                                                                                                    ..\n",
       "российск граждан предложат нов финансов инструмент долгосрочн инвестирован проект бескупон облигац федеральн займ котор могут заинтересова россия невысок доход разрабатыва минфин центробанк цб ссылк стратег развит финансов рынк год утвержден правительств конц декабр пишет бескупон долгов бумаг заключа размеща цен существен ниж номина погаша номинал случа обычн облигац доход инвестор состо купон выплат доход разниц цен покупк продаж случа дисконтн облигац покупател зарабатыва разниц погашен размещен очеред определя исход динамик рыночн процентн образ инфляц процентн ставк пада владелец бескупон получа больш доход владелец обычн наблюда обратн картин доход покупател дисконтн облигац минимизир соответствен залог доход выступа устойчив рост экономик сам размещен гарант современ истор имеет оп размещен бескупон облигац реч идет государствен краткосрочн облигац котор выпуска срок нескольк месяц год ведущ аналитик долгов рынк открыт инвестиц александр сравн инструмент отмет коротк промежутк бескупон выгляд надежн инструмент долгосрочн бумаг похож неуправля снаряд материал тем европ реш постепен отказа российск выж декабр ввод потолок цен российск эт скажет бюджет росс миров экономик декабр комитет госдум финансов рынк анатол аксак подтверд план разработк бескупон облигац част программ долгосрочн сбережен отмет пенсион накоплен такж могут хран так подчеркнул бескупон бумаг фрагмент работ привлечен средств гражда долгосрочн инвестиц российск экономик назва дета срок погашен дисконт аксак затрудн предполож январ какая-т министр финанс антон анонсиру программ формирован долгосрочн сбережен указыва должн стат подушк безопасн гражда декабр минфин отрица разработк бескупон дисконтн разрабатыва фон паден нефтегазов доход бюджет привест больш запланирова дефицит основн финансов документ стран сверста цен сорт размер доллар баррел декабр опуст доллар январ прода район доллар фон значим долгосрочн инвестиц гражда возраста    1\n",
       "человечеств столкнул серьезн кризис доступн продукт питан котор зат перейт глобальн продовольствен катастроф заяв экс-глав минеральн удобрен андр гур ссылк прогноз оон сообща вторник январ указа предыдущ нескольк лет мир возник кризис рынк минеральн удобрен из-з санкц котор последовательн ввод прот росс эт стал предвестник разрушен слож цепочек поставок возникновен дисбаланс спрос предложен отмет фактор стал вызва эт разл глобальн рынк удобрен разорва цепочк поставок росс белорусс котор год приход четверт миров торговл указа эксперт зернов сделк достигнут июл росс оон посредничеств турц сих пор никак помогл разреш ситуац хот генсек оон призна удобрен гуманитарн груз котор след освобод из-под санкц де-факт произошл предупред нача российск спецоперац украин март год европейск союз ес налож андре гурьев санкц из-з ушел должност генеральн директор покинул совет директор                                                                                                                                                                                                                                                                                                                                                                                                                                                                                                                                                                                                                                                                                                                                                                                                                                                                                                                                                                                                                                                                                                       1\n",
       "начал год мир сталкива некотор риск котор кажут одновремен нов знаком сказа доклад глобальн риск подготовлен всемирн экономическ форум форум главн угроз краткосрочн перспектив год назва удорожан стоимост называ стар риск эксперт упомянул инфляц торгов войн отток капита развива рынк социальн волнен геополитическ конфронтац угроз ядерн войн сред нов больш уровен долг начина эр низк экономическ рост глобальн инвестиц такж растущ давлен последств изменен пятерк основн риск природн катастроф геоэкономическ конфронтац неудачн попытк смягч изменен климат поляризац обществ долгосрочн перспектив течен десят лет наибольш угроз исход прова попыток смягч изменен американск экономист предсказа кризис год заяв лет произойт сам сильн долгов кризис                                                                                                                                                                                                                                                                                                                                                                                                                                                                                                                                                                                                                                                                                                                                                                                                                                                                                                                                                                                                                                                                                                                                                                                                                                               1\n",
       "пожар парковк уничтож автомоб котор секретн служб арендова врем президент сша джо сообща телекана лидер провел ден благодарен послед выходн фешенебельн куртк остров штат массачусетс передвижен сопровожден взят аренд пят машин внедорожник произошел отъезд парковк прокат машин аэропорт пресс-секретар бел дом карин жан-пьер ответ критик адрес президент джо из-з част поездок пляж представительниц президент заяв работа откуд угодн                                                                                                                                                                                                                                                                                                                                                                                                                                                                                                                                                                                                                                                                                                                                                                                                                                                                                                                                                                                                                                                                                                                                                                                                                                                                                                                                                                                                                                                                                                                                                                        1\n",
       "ирландск боец смеша стил ответ иск друг артем лобов из-з бренд виск опубликова песн оскорблен адрес бойц российск происхожден арт крыс нескольк пропел ноябр стал известн лоб хочет отсуд друг нескольк десятк миллион котор якоб задолжа помощ создан бизнес продаж напитк лоб треб пят процент дол продаж контрольн пакет акц настаива иде созда бренд виск принадлеж основател бренд продаж напитк стартова осен апрел год получ продаж контрольн пакет акц компан миллион доллар                                                                                                                                                                                                                                                                                                                                                                                                                                                                                                                                                                                                                                                                                                                                                                                                                                                                                                                                                                                                                                                                                                                                                                                                                                                                                                                                                                                                                                                                                                                                 1\n",
       "Name: text, Length: 794, dtype: int64"
      ]
     },
     "execution_count": 53,
     "metadata": {},
     "output_type": "execute_result"
    }
   ],
   "source": [
    "data_test[\"text\"].value_counts()"
   ]
  },
  {
   "cell_type": "code",
   "execution_count": 72,
   "metadata": {},
   "outputs": [
    {
     "data": {
      "text/plain": [
       "([0, 1, 2, 3, 4, 5, 6, 7, 8, 9, 10, 11, 12, 13, 14, 15, 16, 17, 18, 19, 20],\n",
       " <a list of 21 Text major ticklabel objects>)"
      ]
     },
     "execution_count": 72,
     "metadata": {},
     "output_type": "execute_result"
    },
    {
     "data": {
      "image/png": "[encoded data removed]",
      "text/plain": [
       "<Figure size 1440x720 with 1 Axes>"
      ]
     },
     "metadata": {
      "needs_background": "light"
     },
     "output_type": "display_data"
    }
   ],
   "source": [
    "plt.figure(figsize=(20, 10))\n",
    "plt.hist(data_test[\"category\"], bins=200)\n",
    "plt.grid(True)\n",
    "plt.xticks(rotation=90)"
   ]
  },
  {
   "cell_type": "code",
   "execution_count": 73,
   "metadata": {},
   "outputs": [
    {
     "data": {
      "text/plain": [
       "([0,\n",
       "  1,\n",
       "  2,\n",
       "  3,\n",
       "  4,\n",
       "  5,\n",
       "  6,\n",
       "  7,\n",
       "  8,\n",
       "  9,\n",
       "  10,\n",
       "  11,\n",
       "  12,\n",
       "  13,\n",
       "  14,\n",
       "  15,\n",
       "  16,\n",
       "  17,\n",
       "  18,\n",
       "  19,\n",
       "  20,\n",
       "  21,\n",
       "  22],\n",
       " <a list of 23 Text major ticklabel objects>)"
      ]
     },
     "execution_count": 73,
     "metadata": {},
     "output_type": "execute_result"
    },
    {
     "data": {
      "image/png": "[encoded data removed]",
      "text/plain": [
       "<Figure size 1440x720 with 1 Axes>"
      ]
     },
     "metadata": {
      "needs_background": "light"
     },
     "output_type": "display_data"
    }
   ],
   "source": [
    "plt.figure(figsize=(20, 10))\n",
    "plt.hist(df[\"category\"], bins=200)\n",
    "plt.grid(True)\n",
    "plt.xticks(rotation=90)"
   ]
  },
  {
   "cell_type": "markdown",
   "metadata": {},
   "source": [
    "Если честно я фиг его знает какую тут можно сделать визуализацию, чтобы понять какая модель лучше это не требуется, вроде как. Конечно можно сделать графики как тестовая модель собралась, но типо, это не сильно вроде и нужно. Поэтому я просто сравню резы по основным метрикам, пожалуюсь на то, сколько все это считалось и пойду спать."
   ]
  },
  {
   "cell_type": "markdown",
   "metadata": {},
   "source": [
    "1. KNN -\n",
    "Хорошая модель(14 сек ожидания), самая низкая точность.\n",
    "                           \n",
    "                           precision    recall  f1-score   support\n",
    "                 accuracy                           0.75       796\n",
    "                macro avg       0.71      0.69      0.69       796\n",
    "             weighted avg       0.76      0.75      0.74       796\n",
    "             \n",
    "             \n",
    "2. SGD -\n",
    "Тоже неплохая, 5 минут ожидания, точность на уровне, не самый лучший результат, скорее среденее результаты. Скорее всего, если бы категорий было меньше все было бы лучше.\n",
    "                           \n",
    "                           precision    recall  f1-score   support\n",
    "                 accuracy                           0.77       796\n",
    "                macro avg       0.74      0.71      0.71       796\n",
    "             weighted avg       0.78      0.77      0.76       796\n",
    "             \n",
    "\n",
    "3. Логистическая регрессия -\n",
    "Сомнительная модель(20 минут ожидания), 2 место по общей точности, однако вприниципе достойные результаты по самым многочисленным категориям. Так что, если бы не время, то я бы назвал ее самой оптимальной.\n",
    "\n",
    "                           precision    recall  f1-score   support\n",
    "                 accuracy                           0.78       796\n",
    "                macro avg       0.73      0.72      0.72       796\n",
    "             weighted avg       0.78      0.78      0.78       796\n",
    "             \n",
    "4. Случайный лес -\n",
    "Исчадье, ужас, мучитильная фигня(190 минут ожидания). Низкая точность, плохо предсказывает самые крупные категории. Не советую, это нужно запретить.                \n",
    "\n",
    "                           precision    recall  f1-score   support\n",
    "                 accuracy                           0.76       796\n",
    "                macro avg       0.75      0.70      0.70       796\n",
    "             weighted avg       0.77      0.76      0.75       796\n",
    "             \n",
    "5. Наивный байесовский классификатор -\n",
    "Я удивлен, что это не самая лучшая модель, 2.6 сек ожидания, в приципе при такой простоте, точность достаточно неплоха.                           \n",
    "                           \n",
    "                           precision    recall  f1-score   support                     \n",
    "                 accuracy                           0.77       796\n",
    "                macro avg       0.72      0.72      0.71       796\n",
    "             weighted avg       0.77      0.77      0.77       796\n",
    "\n",
    "6. SVC -\n",
    "Победитель, самая высокая точность.                           \n",
    "                           \n",
    "                           precision    recall  f1-score   support\n",
    "                 accuracy                           0.79       796\n",
    "                macro avg       0.74      0.73      0.73       796\n",
    "             weighted avg       0.79      0.79      0.78       796"
   ]
  },
  {
   "cell_type": "markdown",
   "metadata": {},
   "source": [
    "Вывод: Обучение модели было сильно осложнено наличием большого количества категорий, в принципе это можно решить, объединим категории типа Мир:Политика, Мир:Преступность в одну общую - Мир, точность от этого сильно возрастет, как и снизиться время работы. В принципе в таком усложнении есть и плюс, это наглядно показало насколько сложно модели обучаться имея такие похожие темы, особенно меня удивили результаты по экономике, поскольку там имееться две достаточно схожие подкатегории, то точность предсказания у каждой метрики в пределах 60%, к тому же важным фактором является то, что в тексте по экономике много слов, которые совпадают с политикой. \"Президент\", \"Парламент\", и т.п., важные новости экономики связаны с важными органами власти, которые также упоминаются в политике, так что это тоже сбивало модели с толку.\n",
    "В принципе если усложнить процесс обработки текста, оставив там только самые важные слова, добавить больше статей по категориям, или уменьшим колличество категорий, то все было бы на уровне, ведь, как видно по результатам модели достаточно точно предсказывают самые большие по колличеству категории."
   ]
  },
  {
   "cell_type": "code",
   "execution_count": null,
   "metadata": {},
   "outputs": [],
   "source": []
  }
 ],
 "metadata": {
  "kernelspec": {
   "display_name": "Python 3",
   "language": "python",
   "name": "python3"
  },
  "language_info": {
   "codemirror_mode": {
    "name": "ipython",
    "version": 3
   },
   "file_extension": ".py",
   "mimetype": "text/x-python",
   "name": "python",
   "nbconvert_exporter": "python",
   "pygments_lexer": "ipython3",
   "version": "3.8.3"
  }
 },
 "nbformat": 4,
 "nbformat_minor": 4
}
